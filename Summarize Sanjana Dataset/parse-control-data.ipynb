{
 "cells": [
  {
   "cell_type": "code",
   "execution_count": 1,
   "id": "f189e631",
   "metadata": {},
   "outputs": [],
   "source": [
    "import pandas as pd\n",
    "import numpy as np\n",
    "import json\n",
    "import glob, os, subprocess"
   ]
  },
  {
   "cell_type": "code",
   "execution_count": 6,
   "id": "8a30b6a8",
   "metadata": {},
   "outputs": [],
   "source": [
    "# Read all files\n",
    "target_cols = ['Isolate', 'RIFAMPICIN','ISONIAZID', 'ETHAMBUTOL', 'PYRAZINAMIDE', 'STREPTOMYCIN', 'CAPREOMYCIN', 'AMIKACIN', 'CIPROFLOXACIN', 'KANAMYCIN', 'LEVOFLOXACIN', 'OFLOXACIN', 'PARA-AMINOSALICYLIC_ACID', 'ETHIONAMIDE']\n",
    "db = pd.read_csv('/n/data1/hms/dbmi/farhat/anna/focus_cnn/master_table_resistance.csv', usecols = target_cols)"
   ]
  },
  {
   "cell_type": "code",
   "execution_count": 7,
   "id": "973dd41d",
   "metadata": {},
   "outputs": [],
   "source": [
    "db = db.rename(columns={'Isolate':'Isolate', 'RIFAMPICIN':'rif','ISONIAZID':'inh', 'ETHAMBUTOL':'emb', 'PYRAZINAMIDE':'pza', 'STREPTOMYCIN':'str', 'CAPREOMYCIN':'cap', 'AMIKACIN':'amk', 'CIPROFLOXACIN':'cip', 'KANAMYCIN':'kan', 'LEVOFLOXACIN':'levo', 'OFLOXACIN':'oflx', 'PARA-AMINOSALICYLIC_ACID':'pas', 'ETHIONAMIDE':'eth'})\n",
    "db.to_csv('/home/kin672/gentb-summer22/Summarize Sanjana Dataset/resistance_data.csv', index = False)"
   ]
  },
  {
   "cell_type": "code",
   "execution_count": 48,
   "id": "20e6b1e7",
   "metadata": {},
   "outputs": [],
   "source": [
    "# Fast Lineage Caller for all\n",
    "\n",
    "## SANJANA'S LINEAGE CALLER METHOD, Edited\n",
    "def get_lineages(fNames):\n",
    "    \n",
    "    isolates = []\n",
    "    lineages = []\n",
    "    \n",
    "    for strainID in fNames:\n",
    "        try:\n",
    "            x = fNames.get(strainID)\n",
    "            proc = subprocess.Popen(f\"/home/kin672/anaconda3/envs/jupytervenv/bin/fast-lineage-caller {x} --noheader --count\", shell=True, encoding='utf8', stdout=subprocess.PIPE)\n",
    "            output = proc.communicate()[0]\n",
    "\n",
    "            # the second value is the Freschi et al lineage\n",
    "            freschi = output.split(\"\\t\")[1]\n",
    "            freschi = freschi.replace('lineage', '')\n",
    "            lineages.append(freschi)\n",
    "            isolates.append(strainID)\n",
    "        except:\n",
    "            lineages.append('Lineage caller failed')\n",
    "            isolates.append(strainID)\n",
    "        \n",
    "    return pd.DataFrame({\"Isolate\": isolates, \"Lineage\": lineages})\n"
   ]
  },
  {
   "cell_type": "code",
   "execution_count": 83,
   "id": "3c6c277f",
   "metadata": {},
   "outputs": [
    {
     "data": {
      "text/plain": [
       "0             00R0025 \n",
       "1             00R0086 \n",
       "2             00R0178 \n",
       "3             00R0223 \n",
       "4             00R0308 \n",
       "             ...      \n",
       "9679    TDR96S191L002 \n",
       "9680    TDR97S192L002 \n",
       "9681    TDR98S193L002 \n",
       "9682    TDR99S194L002 \n",
       "9683     TDR9S156L002 \n",
       "Name: 0, Length: 9684, dtype: object"
      ]
     },
     "execution_count": 83,
     "metadata": {},
     "output_type": "execute_result"
    }
   ],
   "source": [
    "y = pd.read_csv('/n/data1/hms/dbmi/farhat/rollingDB/genomic_data/strains_with_no_vcf', escapechar='\\\\', sep = '|', header = None)[0]\n",
    "x = pd.read_csv('/n/data1/hms/dbmi/farhat/rollingDB/genomic_data/strains_with_no_vcf_no_errors', escapechar='\\\\', sep = '|', header = None)[0]\n",
    "x = x[0:(len(x)-2)]\n"
   ]
  },
  {
   "cell_type": "code",
   "execution_count": 93,
   "id": "832629ee",
   "metadata": {},
   "outputs": [],
   "source": [
    "no_vcfs = list(y) + list(x)\n",
    "no_vcfs = [i.replace(' ', '') for i in no_vcfs]"
   ]
  },
  {
   "cell_type": "code",
   "execution_count": 96,
   "id": "f0269959",
   "metadata": {},
   "outputs": [],
   "source": [
    "cryptic = os.listdir('/n/data1/hms/dbmi/farhat/rollingDB/cryptic_output/')\n",
    "not_cryptic = os.listdir('/n/data1/hms/dbmi/farhat/rollingDB/genomic_data/')"
   ]
  },
  {
   "cell_type": "code",
   "execution_count": 100,
   "id": "197d8940",
   "metadata": {},
   "outputs": [
    {
     "ename": "KeyboardInterrupt",
     "evalue": "",
     "output_type": "error",
     "traceback": [
      "\u001b[0;31m---------------------------------------------------------------------------\u001b[0m",
      "\u001b[0;31mKeyboardInterrupt\u001b[0m                         Traceback (most recent call last)",
      "Input \u001b[0;32mIn [100]\u001b[0m, in \u001b[0;36m<cell line: 4>\u001b[0;34m()\u001b[0m\n\u001b[1;32m      7\u001b[0m     path \u001b[38;5;241m=\u001b[39m \u001b[38;5;124m'\u001b[39m\u001b[38;5;124m/n/data1/hms/dbmi/farhat/rollingDB/cryptic_output/\u001b[39m\u001b[38;5;124m'\u001b[39m \u001b[38;5;241m+\u001b[39m \u001b[38;5;28mstr\u001b[39m(ID) \u001b[38;5;241m+\u001b[39m \u001b[38;5;124m'\u001b[39m\u001b[38;5;124m/pilon/\u001b[39m\u001b[38;5;124m'\u001b[39m \u001b[38;5;241m+\u001b[39m \u001b[38;5;28mstr\u001b[39m(ID) \u001b[38;5;241m+\u001b[39m \u001b[38;5;124m'\u001b[39m\u001b[38;5;124m.vcf\u001b[39m\u001b[38;5;124m'\u001b[39m\n\u001b[1;32m      8\u001b[0m     vcfs[ID] \u001b[38;5;241m=\u001b[39m path\n\u001b[0;32m----> 9\u001b[0m \u001b[38;5;28;01melif\u001b[39;00m ID \u001b[38;5;129;01min\u001b[39;00m not_cryptic:\n\u001b[1;32m     10\u001b[0m     path \u001b[38;5;241m=\u001b[39m \u001b[38;5;124m'\u001b[39m\u001b[38;5;124m/n/data1/hms/dbmi/farhat/rollingDB/genomic_data/\u001b[39m\u001b[38;5;124m'\u001b[39m \u001b[38;5;241m+\u001b[39m \u001b[38;5;28mstr\u001b[39m(ID) \u001b[38;5;241m+\u001b[39m \u001b[38;5;124m'\u001b[39m\u001b[38;5;124m/pilon/\u001b[39m\u001b[38;5;124m'\u001b[39m \u001b[38;5;241m+\u001b[39m \u001b[38;5;28mstr\u001b[39m(ID) \u001b[38;5;241m+\u001b[39m \u001b[38;5;124m'\u001b[39m\u001b[38;5;124m.vcf\u001b[39m\u001b[38;5;124m'\u001b[39m\n\u001b[1;32m     11\u001b[0m     vcfs[ID] \u001b[38;5;241m=\u001b[39m path\n",
      "\u001b[0;31mKeyboardInterrupt\u001b[0m: "
     ]
    }
   ],
   "source": [
    "errors = {'Didnt have folder associated: ': [], 'Didnt have .vcf associated: ':[]}\n",
    "vcfs = {}\n",
    "\n",
    "for ID in db.Isolate:\n",
    "    path = 'NONE'\n",
    "    if ID not in no_vcfs:\n",
    "        if ID in cryptic:\n",
    "            path = '/n/data1/hms/dbmi/farhat/rollingDB/cryptic_output/' + str(ID) + '/pilon/' + str(ID) + '.vcf'\n",
    "            vcfs[ID] = path\n",
    "        elif ID in not_cryptic:\n",
    "            path = '/n/data1/hms/dbmi/farhat/rollingDB/genomic_data/' + str(ID) + '/pilon/' + str(ID) + '.vcf'\n",
    "            vcfs[ID] = path\n",
    "        else: \n",
    "            errors['Didnt have folder associated: '].append(ID)\n",
    "            continue\n",
    "    else:\n",
    "        errors['Didnt have .vcf associated: '].append(ID)\n",
    "        continue\n",
    "    \n",
    "lineage_table = get_lineages(vcfs)"
   ]
  },
  {
   "cell_type": "code",
   "execution_count": 8,
   "id": "40e99352",
   "metadata": {},
   "outputs": [],
   "source": [
    "master_df = pd.DataFrame({'ID':[], 'Drug':[], 'Resistant':[], 'Lineage':[]})\n",
    "\n",
    "drugs = ['rif','inh','emb','pza','str','cap','amk','cip','kan','levo','oflx', 'pas','eth']\n",
    "\n",
    "    "
   ]
  },
  {
   "cell_type": "code",
   "execution_count": null,
   "id": "e8b16286",
   "metadata": {},
   "outputs": [],
   "source": [
    "for ID in db.Isolate:\n",
    "    \n",
    "    # First, pull lineage value from the table generated earlier.\n",
    "    if ID in errors.get('Didnt have folder associated: '):\n",
    "        freschi_lineage = 'No folder'\n",
    "    else:\n",
    "        freschi_lineage = lineage_table.loc[lineage_table.Isolate == ID, 'Lineage'].to_list()\n",
    "        freschi_lineage = [str(i).replace('(1/1)', '') for i in freschi_lineage]\n",
    "        freschi_lineage = ', '.join(freschi_lineage)\n",
    "    \n",
    "    # Create a dataframe with all of the information for this isolate that will be added to the bottom of our master dataframe\n",
    "    temp = pd.DataFrame(db.loc[db.Isolate == ID, drugs]).transpose().reset_index()\n",
    "    temp.columns = ['Drug', 'Resistant']\n",
    "    temp['Lineage'] = freschi_lineage\n",
    "    temp.insert(0, 'ID', [ID]*13, allow_duplicates = True)\n",
    "    \n",
    "    master_df = pd.concat([master_df, temp])\n",
    "    "
   ]
  },
  {
   "cell_type": "code",
   "execution_count": 152,
   "id": "0e3a8cf6",
   "metadata": {},
   "outputs": [
    {
     "data": {
      "text/html": [
       "<div>\n",
       "<style scoped>\n",
       "    .dataframe tbody tr th:only-of-type {\n",
       "        vertical-align: middle;\n",
       "    }\n",
       "\n",
       "    .dataframe tbody tr th {\n",
       "        vertical-align: top;\n",
       "    }\n",
       "\n",
       "    .dataframe thead th {\n",
       "        text-align: right;\n",
       "    }\n",
       "</style>\n",
       "<table border=\"1\" class=\"dataframe\">\n",
       "  <thead>\n",
       "    <tr style=\"text-align: right;\">\n",
       "      <th></th>\n",
       "      <th>ID</th>\n",
       "      <th>Drug</th>\n",
       "      <th>Resistant</th>\n",
       "      <th>Lineage</th>\n",
       "    </tr>\n",
       "  </thead>\n",
       "  <tbody>\n",
       "    <tr>\n",
       "      <th>0</th>\n",
       "      <td>ID</td>\n",
       "      <td>rif</td>\n",
       "      <td>R</td>\n",
       "      <td>beep</td>\n",
       "    </tr>\n",
       "    <tr>\n",
       "      <th>1</th>\n",
       "      <td>ID</td>\n",
       "      <td>inh</td>\n",
       "      <td>R</td>\n",
       "      <td>beep</td>\n",
       "    </tr>\n",
       "    <tr>\n",
       "      <th>2</th>\n",
       "      <td>ID</td>\n",
       "      <td>emb</td>\n",
       "      <td>R</td>\n",
       "      <td>beep</td>\n",
       "    </tr>\n",
       "    <tr>\n",
       "      <th>3</th>\n",
       "      <td>ID</td>\n",
       "      <td>pza</td>\n",
       "      <td>R</td>\n",
       "      <td>beep</td>\n",
       "    </tr>\n",
       "    <tr>\n",
       "      <th>4</th>\n",
       "      <td>ID</td>\n",
       "      <td>str</td>\n",
       "      <td>R</td>\n",
       "      <td>beep</td>\n",
       "    </tr>\n",
       "    <tr>\n",
       "      <th>5</th>\n",
       "      <td>ID</td>\n",
       "      <td>cap</td>\n",
       "      <td>R</td>\n",
       "      <td>beep</td>\n",
       "    </tr>\n",
       "    <tr>\n",
       "      <th>6</th>\n",
       "      <td>ID</td>\n",
       "      <td>amk</td>\n",
       "      <td>R</td>\n",
       "      <td>beep</td>\n",
       "    </tr>\n",
       "    <tr>\n",
       "      <th>7</th>\n",
       "      <td>ID</td>\n",
       "      <td>cip</td>\n",
       "      <td>NaN</td>\n",
       "      <td>beep</td>\n",
       "    </tr>\n",
       "    <tr>\n",
       "      <th>8</th>\n",
       "      <td>ID</td>\n",
       "      <td>kan</td>\n",
       "      <td>R</td>\n",
       "      <td>beep</td>\n",
       "    </tr>\n",
       "    <tr>\n",
       "      <th>9</th>\n",
       "      <td>ID</td>\n",
       "      <td>levo</td>\n",
       "      <td>NaN</td>\n",
       "      <td>beep</td>\n",
       "    </tr>\n",
       "    <tr>\n",
       "      <th>10</th>\n",
       "      <td>ID</td>\n",
       "      <td>oflx</td>\n",
       "      <td>R</td>\n",
       "      <td>beep</td>\n",
       "    </tr>\n",
       "    <tr>\n",
       "      <th>11</th>\n",
       "      <td>ID</td>\n",
       "      <td>pas</td>\n",
       "      <td>NaN</td>\n",
       "      <td>beep</td>\n",
       "    </tr>\n",
       "    <tr>\n",
       "      <th>12</th>\n",
       "      <td>ID</td>\n",
       "      <td>eth</td>\n",
       "      <td>R</td>\n",
       "      <td>beep</td>\n",
       "    </tr>\n",
       "  </tbody>\n",
       "</table>\n",
       "</div>"
      ],
      "text/plain": [
       "    ID  Drug Resistant Lineage\n",
       "0   ID   rif         R    beep\n",
       "1   ID   inh         R    beep\n",
       "2   ID   emb         R    beep\n",
       "3   ID   pza         R    beep\n",
       "4   ID   str         R    beep\n",
       "5   ID   cap         R    beep\n",
       "6   ID   amk         R    beep\n",
       "7   ID   cip       NaN    beep\n",
       "8   ID   kan         R    beep\n",
       "9   ID  levo       NaN    beep\n",
       "10  ID  oflx         R    beep\n",
       "11  ID   pas       NaN    beep\n",
       "12  ID   eth         R    beep"
      ]
     },
     "execution_count": 152,
     "metadata": {},
     "output_type": "execute_result"
    }
   ],
   "source": [
    "master_df.to_csv('/home/kin672/gentb-summer22/Summarize Sanjana Dataset/full_control_db_7-24.csv', index = False)"
   ]
  },
  {
   "cell_type": "code",
   "execution_count": null,
   "id": "c4ac2809",
   "metadata": {},
   "outputs": [],
   "source": []
  }
 ],
 "metadata": {
  "kernelspec": {
   "display_name": "jupytervenv",
   "language": "python",
   "name": "jupytervenv"
  },
  "language_info": {
   "codemirror_mode": {
    "name": "ipython",
    "version": 3
   },
   "file_extension": ".py",
   "mimetype": "text/x-python",
   "name": "python",
   "nbconvert_exporter": "python",
   "pygments_lexer": "ipython3",
   "version": "3.10.4"
  }
 },
 "nbformat": 4,
 "nbformat_minor": 5
}
