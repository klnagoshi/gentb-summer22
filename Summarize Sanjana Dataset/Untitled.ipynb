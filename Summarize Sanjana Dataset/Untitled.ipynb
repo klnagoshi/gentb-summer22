{
 "cells": [
  {
   "cell_type": "code",
   "execution_count": 2,
   "id": "f189e631",
   "metadata": {},
   "outputs": [],
   "source": [
    "import pandas as pd\n",
    "import numpy as np\n",
    "import json\n",
    "from pandas.api.types import CategoricalDtype"
   ]
  },
  {
   "cell_type": "code",
   "execution_count": 8,
   "id": "8a30b6a8",
   "metadata": {},
   "outputs": [
    {
     "ename": "NameError",
     "evalue": "name 'target_cols' is not defined",
     "output_type": "error",
     "traceback": [
      "\u001b[0;31m---------------------------------------------------------------------------\u001b[0m",
      "\u001b[0;31mNameError\u001b[0m                                 Traceback (most recent call last)",
      "Input \u001b[0;32mIn [8]\u001b[0m, in \u001b[0;36m<cell line: 2>\u001b[0;34m()\u001b[0m\n\u001b[1;32m      1\u001b[0m \u001b[38;5;66;03m# Read all files\u001b[39;00m\n\u001b[0;32m----> 2\u001b[0m \u001b[43mtarget_cols\u001b[49m\n\u001b[1;32m      3\u001b[0m db \u001b[38;5;241m=\u001b[39m pd\u001b[38;5;241m.\u001b[39mread_csv(\u001b[38;5;124m'\u001b[39m\u001b[38;5;124m/n/data1/hms/dbmi/farhat/Sanjana/MIC_data/MIC_rollingdb_cryptic.csv\u001b[39m\u001b[38;5;124m'\u001b[39m, nrows \u001b[38;5;241m=\u001b[39m \u001b[38;5;241m3\u001b[39m)\n\u001b[1;32m      4\u001b[0m MIC \u001b[38;5;241m=\u001b[39m pd\u001b[38;5;241m.\u001b[39mread_csv(\u001b[38;5;124m'\u001b[39m\u001b[38;5;124m/n/data1/hms/dbmi/farhat/Sanjana/MIC_data/criticalConcentrations_updated.csv\u001b[39m\u001b[38;5;124m'\u001b[39m)\n",
      "\u001b[0;31mNameError\u001b[0m: name 'target_cols' is not defined"
     ]
    }
   ],
   "source": [
    "# Read all files\n",
    "target_cols = ['EMB', 'ETA', 'INH', 'KAN', 'LEVO', 'RIF', '']\n",
    "db = pd.read_csv('/n/data1/hms/dbmi/farhat/Sanjana/MIC_data/MIC_rollingdb_cryptic.csv', nrows = 3)\n",
    "MIC = pd.read_csv('/n/data1/hms/dbmi/farhat/Sanjana/MIC_data/criticalConcentrations_updated.csv')"
   ]
  },
  {
   "cell_type": "code",
   "execution_count": null,
   "id": "cc2b5bf1",
   "metadata": {},
   "outputs": [],
   "source": [
    "# Binarize the resistance"
   ]
  },
  {
   "cell_type": "code",
   "execution_count": 7,
   "id": "20e6b1e7",
   "metadata": {},
   "outputs": [
    {
     "name": "stdout",
     "output_type": "stream",
     "text": [
      "ROLLINGDB_ID\n",
      "BIOSAMPLE_ACCESSION\n",
      "ID\n",
      "ISOLATION_LOCATION\n",
      "DB_OF_ORIGIN\n",
      "STUDY_NAME\n",
      "STUDY_PMID\n",
      "TESTING_LOCATION\n",
      "MEDIA\n",
      "AMI\n",
      "CLO\n",
      "EMB\n",
      "ETA\n",
      "INH\n",
      "KAN\n",
      "LEVO\n",
      "LIN\n",
      "MOXI\n",
      "RIF\n",
      "RFB\n",
      "DLM\n",
      "BDQ\n",
      "AMI_lower_bound\n",
      "AMI_midpoint\n",
      "AMI_upper_bound\n",
      "CLO_lower_bound\n",
      "CLO_midpoint\n",
      "CLO_upper_bound\n",
      "EMB_lower_bound\n",
      "EMB_midpoint\n",
      "EMB_upper_bound\n",
      "ETA_lower_bound\n",
      "ETA_midpoint\n",
      "ETA_upper_bound\n",
      "INH_lower_bound\n",
      "INH_midpoint\n",
      "INH_upper_bound\n",
      "KAN_lower_bound\n",
      "KAN_midpoint\n",
      "KAN_upper_bound\n",
      "LEVO_lower_bound\n",
      "LEVO_midpoint\n",
      "LEVO_upper_bound\n",
      "LIN_lower_bound\n",
      "LIN_midpoint\n",
      "LIN_upper_bound\n",
      "MOXI_lower_bound\n",
      "MOXI_midpoint\n",
      "MOXI_upper_bound\n",
      "RIF_lower_bound\n",
      "RIF_midpoint\n",
      "RIF_upper_bound\n",
      "RFB_lower_bound\n",
      "RFB_midpoint\n",
      "RFB_upper_bound\n",
      "DLM_lower_bound\n",
      "DLM_midpoint\n",
      "DLM_upper_bound\n",
      "BDQ_lower_bound\n",
      "BDQ_midpoint\n",
      "BDQ_upper_bound\n",
      "AMI_quality\n",
      "CLO_quality\n",
      "EMB_quality\n",
      "ETA_quality\n",
      "INH_quality\n",
      "KAN_quality\n",
      "LEVO_quality\n",
      "LIN_quality\n",
      "MOXI_quality\n",
      "RIF_quality\n",
      "RFB_quality\n",
      "BDQ_quality\n",
      "STR\n",
      "CIP\n",
      "CYS\n",
      "CAP\n",
      "OFX\n",
      "PAS\n",
      "PZA\n",
      "PRO\n",
      "CLAR\n",
      "GATI\n",
      "AMOXCLAV\n",
      "STR_lower_bound\n",
      "STR_upper_bound\n",
      "STR_midpoint\n",
      "CIP_lower_bound\n",
      "CIP_upper_bound\n",
      "CIP_midpoint\n",
      "CYS_lower_bound\n",
      "CYS_upper_bound\n",
      "CYS_midpoint\n",
      "CAP_lower_bound\n",
      "CAP_upper_bound\n",
      "CAP_midpoint\n",
      "OFX_lower_bound\n",
      "OFX_upper_bound\n",
      "OFX_midpoint\n",
      "PAS_lower_bound\n",
      "PAS_upper_bound\n",
      "PAS_midpoint\n",
      "PZA_lower_bound\n",
      "PZA_upper_bound\n",
      "PZA_midpoint\n",
      "PRO_lower_bound\n",
      "PRO_upper_bound\n",
      "PRO_midpoint\n",
      "CLAR_lower_bound\n",
      "CLAR_upper_bound\n",
      "CLAR_midpoint\n",
      "GATI_lower_bound\n",
      "GATI_upper_bound\n",
      "GATI_midpoint\n",
      "AMOXCLAV_lower_bound\n",
      "AMOXCLAV_upper_bound\n",
      "AMOXCLAV_midpoint\n"
     ]
    }
   ],
   "source": [
    "for i in db.columns:\n",
    "    print(i)"
   ]
  }
 ],
 "metadata": {
  "kernelspec": {
   "display_name": "jupytervenv",
   "language": "python",
   "name": "jupytervenv"
  },
  "language_info": {
   "codemirror_mode": {
    "name": "ipython",
    "version": 3
   },
   "file_extension": ".py",
   "mimetype": "text/x-python",
   "name": "python",
   "nbconvert_exporter": "python",
   "pygments_lexer": "ipython3",
   "version": "3.10.4"
  }
 },
 "nbformat": 4,
 "nbformat_minor": 5
}
