{
 "cells": [
  {
   "cell_type": "code",
   "execution_count": 1,
   "id": "0304072a",
   "metadata": {},
   "outputs": [],
   "source": [
    "#!/usr/bin/env python\n",
    "# coding: utf-8\n",
    "\n",
    "\n",
    "import pandas as pd\n",
    "import numpy as np\n",
    "import json\n",
    "from pandas.api.types import CategoricalDtype\n",
    "\n",
    "master_df = pd.read_csv('/home/kin672/gentb-summer22/Summarize Sanjana Dataset/full_control_db_7-25.csv')\n",
    "\n"
   ]
  },
  {
   "cell_type": "code",
   "execution_count": 4,
   "id": "398821eb",
   "metadata": {},
   "outputs": [
    {
     "data": {
      "text/plain": [
       "array(['2.2.1', '2.2.1.1', '2.2.2', '4.4.2', '1.1.1.1', '1.1.1', '4.5',\n",
       "       '2.2.1,4', '4.2.2', '2.1', '4.8', '4.1.2', '4.3.3', '4.2.1',\n",
       "       '4.3.4.2', '4.1.2.1', '4.3.4.1', '4.1.1', '4.3.2', '4.3',\n",
       "       'BOV_AFRI', '4.1.1.3', '4.1', '4.1.1.1', '3', '4.2.2.1', '2.2.1.2',\n",
       "       '4.4.1.1', '6,BOV_AFRI', '1.2.1', '4', '1.1.2', '1.2.2', '1',\n",
       "       '4.6.2.2', '4.9', '4.7', '3.1.2', '4.6.1.2', '4.6.2', '1.1.3',\n",
       "       '4.4.1.2', '4.6.2.1', '1.1.3,1.1.2', '4.6.1.1', '3.1.1',\n",
       "       '4.3.3,1.1.3', '4.3.4.2.1', '4.3.2.1', '2.2.1,4.8', '1.2.2,3.1.2',\n",
       "       '4.1.2.1,2.2.1', '4.8,4.1.1.3', '5', '6', '5,6,BOV_AFRI', '4.3.1',\n",
       "       '1.1.2,4.3.2.1', '2', '1.1.3,4.5', '4.4.1.1,4.6.1.2',\n",
       "       '4.3.4.2,3.1.2.1', '2.2.1,3', '3.1.2.1', '4.1.1.1,2.2',\n",
       "       '4.3.3,3.1.1', '4.4.1.1,4.3.4.2.1', '4.3.3,2.2.1', '4.1.2,1.2.2',\n",
       "       '2.2.1,4.3.2.1', '4.1,2.2.1,4.8', '2.2,4.3.2.1', '2.2.1,1.2.2',\n",
       "       '4.1.1.2', '4.4', '4.4.1.1,4.1.2', '4.6', '4.3.4.2.1,1.1.2',\n",
       "       '3.1.2.2', '4.5,1.2.1', '1.1.2,4.4', '4.5,1.1.2', '4.3.3,4.3.2.1',\n",
       "       '4.3.3,4.1.2', '4.3.4', '2.2.1,4.1.1.1', '2.2.1,4.1.1.3',\n",
       "       '4.1.2.1,4.7', '2.2.1,6,BOV_AFRI', '2.2,3', '1.1.2,4', '1,2.2.1',\n",
       "       '4.1.2.1,4.4.1', '4.2.1,4.7', '4.1.2.1,3', '1.1', '3,4',\n",
       "       '2.2.1,BOV_AFRI', '4.1.2,4.2.2', '4.3.3,4.1.1', '2,4.3.2.1',\n",
       "       '1.1.2,3', '4.3.2.1,4.3.4', '4.4.1.1,3', '4.4.1.1,4.3.3',\n",
       "       '1.1.2,1.2.2', '1.1.3,3', '4.1,1.2.2', '1.1.3,2.2.1.2',\n",
       "       '3.1.2.2,1.1.1', '2.2.1,4.3.4.2', '4.8,4.3.4.1', '1.1.3,4.1.1.1',\n",
       "       '4.3,2.2.1'], dtype=object)"
      ]
     },
     "execution_count": 4,
     "metadata": {},
     "output_type": "execute_result"
    }
   ],
   "source": [
    "master_df = master_df.loc[[str(i)[0:1] in ['1','2','3','4','5','6','B'] for i in master_df.Lineage], :]\n",
    "\n",
    "def keep_id(ID):\n",
    "    return (not any((pd.isna(master_df.loc[master_df.ID == ID, 'Resistant']))))"
   ]
  },
  {
   "cell_type": "code",
   "execution_count": 11,
   "id": "7338a169",
   "metadata": {},
   "outputs": [
    {
     "data": {
      "text/plain": [
       "True"
      ]
     },
     "execution_count": 11,
     "metadata": {},
     "output_type": "execute_result"
    }
   ],
   "source": [
    "any(pd.isna(master_df.loc[master_df.ID == 'SAMN08913077', 'Resistant']))"
   ]
  },
  {
   "cell_type": "code",
   "execution_count": 12,
   "id": "c3b25b1f",
   "metadata": {},
   "outputs": [
    {
     "ename": "KeyboardInterrupt",
     "evalue": "",
     "output_type": "error",
     "traceback": [
      "\u001b[0;31m---------------------------------------------------------------------------\u001b[0m",
      "\u001b[0;31mKeyboardInterrupt\u001b[0m                         Traceback (most recent call last)",
      "Input \u001b[0;32mIn [12]\u001b[0m, in \u001b[0;36m<cell line: 1>\u001b[0;34m()\u001b[0m\n\u001b[0;32m----> 1\u001b[0m master_df \u001b[38;5;241m=\u001b[39m master_df[[\u001b[38;5;129;01mnot\u001b[39;00m \u001b[38;5;28many\u001b[39m(pd\u001b[38;5;241m.\u001b[39misna(master_df\u001b[38;5;241m.\u001b[39mloc[master_df\u001b[38;5;241m.\u001b[39mID \u001b[38;5;241m==\u001b[39m i, \u001b[38;5;124m'\u001b[39m\u001b[38;5;124mResistant\u001b[39m\u001b[38;5;124m'\u001b[39m])) \u001b[38;5;28;01mfor\u001b[39;00m i \u001b[38;5;129;01min\u001b[39;00m master_df[\u001b[38;5;124m'\u001b[39m\u001b[38;5;124mID\u001b[39m\u001b[38;5;124m'\u001b[39m]]]\n\u001b[1;32m      2\u001b[0m \u001b[38;5;28mprint\u001b[39m(\u001b[38;5;124m'\u001b[39m\u001b[38;5;124mNumber of IDs included: \u001b[39m\u001b[38;5;124m'\u001b[39m \u001b[38;5;241m+\u001b[39m \u001b[38;5;28mstr\u001b[39m(\u001b[38;5;28mlen\u001b[39m(master_df[\u001b[38;5;124m'\u001b[39m\u001b[38;5;124mID\u001b[39m\u001b[38;5;124m'\u001b[39m]\u001b[38;5;241m.\u001b[39munique())))\n",
      "Input \u001b[0;32mIn [12]\u001b[0m, in \u001b[0;36m<listcomp>\u001b[0;34m(.0)\u001b[0m\n\u001b[0;32m----> 1\u001b[0m master_df \u001b[38;5;241m=\u001b[39m master_df[[\u001b[38;5;129;01mnot\u001b[39;00m \u001b[38;5;28many\u001b[39m(pd\u001b[38;5;241m.\u001b[39misna(master_df\u001b[38;5;241m.\u001b[39mloc[\u001b[43mmaster_df\u001b[49m\u001b[38;5;241;43m.\u001b[39;49m\u001b[43mID\u001b[49m\u001b[43m \u001b[49m\u001b[38;5;241;43m==\u001b[39;49m\u001b[43m \u001b[49m\u001b[43mi\u001b[49m, \u001b[38;5;124m'\u001b[39m\u001b[38;5;124mResistant\u001b[39m\u001b[38;5;124m'\u001b[39m])) \u001b[38;5;28;01mfor\u001b[39;00m i \u001b[38;5;129;01min\u001b[39;00m master_df[\u001b[38;5;124m'\u001b[39m\u001b[38;5;124mID\u001b[39m\u001b[38;5;124m'\u001b[39m]]]\n\u001b[1;32m      2\u001b[0m \u001b[38;5;28mprint\u001b[39m(\u001b[38;5;124m'\u001b[39m\u001b[38;5;124mNumber of IDs included: \u001b[39m\u001b[38;5;124m'\u001b[39m \u001b[38;5;241m+\u001b[39m \u001b[38;5;28mstr\u001b[39m(\u001b[38;5;28mlen\u001b[39m(master_df[\u001b[38;5;124m'\u001b[39m\u001b[38;5;124mID\u001b[39m\u001b[38;5;124m'\u001b[39m]\u001b[38;5;241m.\u001b[39munique())))\n",
      "File \u001b[0;32m~/anaconda3/envs/jupytervenv/lib/python3.10/site-packages/pandas/core/ops/common.py:70\u001b[0m, in \u001b[0;36m_unpack_zerodim_and_defer.<locals>.new_method\u001b[0;34m(self, other)\u001b[0m\n\u001b[1;32m     66\u001b[0m             \u001b[38;5;28;01mreturn\u001b[39;00m \u001b[38;5;28mNotImplemented\u001b[39m\n\u001b[1;32m     68\u001b[0m other \u001b[38;5;241m=\u001b[39m item_from_zerodim(other)\n\u001b[0;32m---> 70\u001b[0m \u001b[38;5;28;01mreturn\u001b[39;00m \u001b[43mmethod\u001b[49m\u001b[43m(\u001b[49m\u001b[38;5;28;43mself\u001b[39;49m\u001b[43m,\u001b[49m\u001b[43m \u001b[49m\u001b[43mother\u001b[49m\u001b[43m)\u001b[49m\n",
      "File \u001b[0;32m~/anaconda3/envs/jupytervenv/lib/python3.10/site-packages/pandas/core/arraylike.py:40\u001b[0m, in \u001b[0;36mOpsMixin.__eq__\u001b[0;34m(self, other)\u001b[0m\n\u001b[1;32m     38\u001b[0m \u001b[38;5;129m@unpack_zerodim_and_defer\u001b[39m(\u001b[38;5;124m\"\u001b[39m\u001b[38;5;124m__eq__\u001b[39m\u001b[38;5;124m\"\u001b[39m)\n\u001b[1;32m     39\u001b[0m \u001b[38;5;28;01mdef\u001b[39;00m \u001b[38;5;21m__eq__\u001b[39m(\u001b[38;5;28mself\u001b[39m, other):\n\u001b[0;32m---> 40\u001b[0m     \u001b[38;5;28;01mreturn\u001b[39;00m \u001b[38;5;28;43mself\u001b[39;49m\u001b[38;5;241;43m.\u001b[39;49m\u001b[43m_cmp_method\u001b[49m\u001b[43m(\u001b[49m\u001b[43mother\u001b[49m\u001b[43m,\u001b[49m\u001b[43m \u001b[49m\u001b[43moperator\u001b[49m\u001b[38;5;241;43m.\u001b[39;49m\u001b[43meq\u001b[49m\u001b[43m)\u001b[49m\n",
      "File \u001b[0;32m~/anaconda3/envs/jupytervenv/lib/python3.10/site-packages/pandas/core/series.py:5623\u001b[0m, in \u001b[0;36mSeries._cmp_method\u001b[0;34m(self, other, op)\u001b[0m\n\u001b[1;32m   5620\u001b[0m rvalues \u001b[38;5;241m=\u001b[39m extract_array(other, extract_numpy\u001b[38;5;241m=\u001b[39m\u001b[38;5;28;01mTrue\u001b[39;00m, extract_range\u001b[38;5;241m=\u001b[39m\u001b[38;5;28;01mTrue\u001b[39;00m)\n\u001b[1;32m   5622\u001b[0m \u001b[38;5;28;01mwith\u001b[39;00m np\u001b[38;5;241m.\u001b[39merrstate(\u001b[38;5;28mall\u001b[39m\u001b[38;5;241m=\u001b[39m\u001b[38;5;124m\"\u001b[39m\u001b[38;5;124mignore\u001b[39m\u001b[38;5;124m\"\u001b[39m):\n\u001b[0;32m-> 5623\u001b[0m     res_values \u001b[38;5;241m=\u001b[39m \u001b[43mops\u001b[49m\u001b[38;5;241;43m.\u001b[39;49m\u001b[43mcomparison_op\u001b[49m\u001b[43m(\u001b[49m\u001b[43mlvalues\u001b[49m\u001b[43m,\u001b[49m\u001b[43m \u001b[49m\u001b[43mrvalues\u001b[49m\u001b[43m,\u001b[49m\u001b[43m \u001b[49m\u001b[43mop\u001b[49m\u001b[43m)\u001b[49m\n\u001b[1;32m   5625\u001b[0m \u001b[38;5;28;01mreturn\u001b[39;00m \u001b[38;5;28mself\u001b[39m\u001b[38;5;241m.\u001b[39m_construct_result(res_values, name\u001b[38;5;241m=\u001b[39mres_name)\n",
      "File \u001b[0;32m~/anaconda3/envs/jupytervenv/lib/python3.10/site-packages/pandas/core/ops/array_ops.py:283\u001b[0m, in \u001b[0;36mcomparison_op\u001b[0;34m(left, right, op)\u001b[0m\n\u001b[1;32m    280\u001b[0m     \u001b[38;5;28;01mreturn\u001b[39;00m invalid_comparison(lvalues, rvalues, op)\n\u001b[1;32m    282\u001b[0m \u001b[38;5;28;01melif\u001b[39;00m is_object_dtype(lvalues\u001b[38;5;241m.\u001b[39mdtype) \u001b[38;5;129;01mor\u001b[39;00m \u001b[38;5;28misinstance\u001b[39m(rvalues, \u001b[38;5;28mstr\u001b[39m):\n\u001b[0;32m--> 283\u001b[0m     res_values \u001b[38;5;241m=\u001b[39m \u001b[43mcomp_method_OBJECT_ARRAY\u001b[49m\u001b[43m(\u001b[49m\u001b[43mop\u001b[49m\u001b[43m,\u001b[49m\u001b[43m \u001b[49m\u001b[43mlvalues\u001b[49m\u001b[43m,\u001b[49m\u001b[43m \u001b[49m\u001b[43mrvalues\u001b[49m\u001b[43m)\u001b[49m\n\u001b[1;32m    285\u001b[0m \u001b[38;5;28;01melse\u001b[39;00m:\n\u001b[1;32m    286\u001b[0m     res_values \u001b[38;5;241m=\u001b[39m _na_arithmetic_op(lvalues, rvalues, op, is_cmp\u001b[38;5;241m=\u001b[39m\u001b[38;5;28;01mTrue\u001b[39;00m)\n",
      "File \u001b[0;32m~/anaconda3/envs/jupytervenv/lib/python3.10/site-packages/pandas/core/ops/array_ops.py:73\u001b[0m, in \u001b[0;36mcomp_method_OBJECT_ARRAY\u001b[0;34m(op, x, y)\u001b[0m\n\u001b[1;32m     71\u001b[0m     result \u001b[38;5;241m=\u001b[39m libops\u001b[38;5;241m.\u001b[39mvec_compare(x\u001b[38;5;241m.\u001b[39mravel(), y\u001b[38;5;241m.\u001b[39mravel(), op)\n\u001b[1;32m     72\u001b[0m \u001b[38;5;28;01melse\u001b[39;00m:\n\u001b[0;32m---> 73\u001b[0m     result \u001b[38;5;241m=\u001b[39m \u001b[43mlibops\u001b[49m\u001b[38;5;241;43m.\u001b[39;49m\u001b[43mscalar_compare\u001b[49m\u001b[43m(\u001b[49m\u001b[43mx\u001b[49m\u001b[38;5;241;43m.\u001b[39;49m\u001b[43mravel\u001b[49m\u001b[43m(\u001b[49m\u001b[43m)\u001b[49m\u001b[43m,\u001b[49m\u001b[43m \u001b[49m\u001b[43my\u001b[49m\u001b[43m,\u001b[49m\u001b[43m \u001b[49m\u001b[43mop\u001b[49m\u001b[43m)\u001b[49m\n\u001b[1;32m     74\u001b[0m \u001b[38;5;28;01mreturn\u001b[39;00m result\u001b[38;5;241m.\u001b[39mreshape(x\u001b[38;5;241m.\u001b[39mshape)\n",
      "\u001b[0;31mKeyboardInterrupt\u001b[0m: "
     ]
    }
   ],
   "source": [
    "master_df = master_df[[not any(pd.isna(master_df.loc[master_df.ID == i, 'Resistant'])) for i in master_df['ID']]]\n",
    "print('Number of IDs included: ' + str(len(master_df['ID'].unique())))"
   ]
  },
  {
   "cell_type": "code",
   "execution_count": 18,
   "id": "c3e1bcdb",
   "metadata": {},
   "outputs": [],
   "source": [
    "summarized = master_df.groupby(['Drug','Lineage','Resistant']).count()\n",
    "summarized = summarized.rename(columns={'ID':'NumStrains'})\n",
    "summarized.reset_index(inplace=True)"
   ]
  },
  {
   "cell_type": "code",
   "execution_count": 32,
   "id": "e72ec5d8",
   "metadata": {},
   "outputs": [
    {
     "data": {
      "text/plain": [
       "0       False\n",
       "1       False\n",
       "2       False\n",
       "3       False\n",
       "4       False\n",
       "        ...  \n",
       "1232    False\n",
       "1233    False\n",
       "1234    False\n",
       "1235    False\n",
       "1236    False\n",
       "Length: 1237, dtype: bool"
      ]
     },
     "execution_count": 32,
     "metadata": {},
     "output_type": "execute_result"
    }
   ],
   "source": [
    "reformat_summarized = pd.DataFrame({'Drug':[], 'Lineage':[], 'Percentage of Strains that are Resistant':[], 'Number of Resistant Strains':[], 'Number of Susceptible Strains':[]})\n",
    "for drug in np.unique(summarized.Drug):\n",
    "    for lineage in np.unique(summarized.Lineage):\n",
    "        num_resistant = list(summarized.loc[(summarized.Drug == drug) & (summarized.Lineage == lineage) & (summarized.Resistant == 'R'), 'NumStrains'])\n",
    "        if (len(num_resistant) == 1):\n",
    "            num_resistant = int(num_resistant[0])\n",
    "        elif (len(num_resistant) == 0):\n",
    "            num_resistant = 0\n",
    "        else:\n",
    "            num_resistant = 'Messed up'\n",
    "        num_susceptible = summarized[(summarized.Drug == drug) & (summarized.Lineage == lineage) & (summarized.Resistant == 'S')].NumStrains\n",
    "        if (len(num_susceptible) == 1):\n",
    "            num_susceptible = int(num_susceptible[0])\n",
    "        elif (len(num_susceptible) == 0):\n",
    "            num_susceptible = 0\n",
    "        else:\n",
    "            num_susceptible = 'Messed up'\n",
    "        temp = pd.DataFrame({'Drug':[drug], 'Lineage':[lineage], 'Percentage of Strains that are Resistant':[num_resistant * 100 / (num_resistant + num_susceptible)], 'Number of Resistant Strains':[str(num_resistant)], 'Number of Susceptible Strains':[str(num_susceptible)]})\n",
    "        reformat_summarized = pd.concat([reformat_summarized, temp], ignore_index=True)\n"
   ]
  }
 ],
 "metadata": {
  "kernelspec": {
   "display_name": "jupytervenv",
   "language": "python",
   "name": "jupytervenv"
  },
  "language_info": {
   "codemirror_mode": {
    "name": "ipython",
    "version": 3
   },
   "file_extension": ".py",
   "mimetype": "text/x-python",
   "name": "python",
   "nbconvert_exporter": "python",
   "pygments_lexer": "ipython3",
   "version": "3.10.4"
  }
 },
 "nbformat": 4,
 "nbformat_minor": 5
}
