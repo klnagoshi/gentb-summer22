{
 "cells": [
  {
   "cell_type": "code",
   "execution_count": 13,
   "id": "5bc3e65b",
   "metadata": {},
   "outputs": [
    {
     "data": {
      "text/plain": [
       "False"
      ]
     },
     "execution_count": 13,
     "metadata": {},
     "output_type": "execute_result"
    }
   ],
   "source": [
    "import json\n",
    "with open('//home//kin672//gentb-summer22//Isolating Relevant Files//7-18 Output//relevant_file_names_7-18.json') as f1:\n",
    "    x = json.load(f1)\n",
    "    \n"
   ]
  },
  {
   "cell_type": "code",
   "execution_count": 25,
   "id": "698cad39",
   "metadata": {},
   "outputs": [
    {
     "data": {
      "text/plain": [
       "dict_keys(['No lineage files, no vcf', 'More than one .vcf file, did not check for lineage files', 'No vcf, More than one lineage file', 'There are at least two lineage.txt files associated with this strainID', '.json file is empty', '.json is not in random forest format'])"
      ]
     },
     "execution_count": 25,
     "metadata": {},
     "output_type": "execute_result"
    }
   ],
   "source": [
    "with open('//home//kin672//gentb-summer22//Isolating Relevant Files//7-18 Output//strainIDs_with_errors_7-18.json') as f2:\n",
    "    y = json.load(f2)\n",
    "    \n",
    "y.keys()"
   ]
  },
  {
   "cell_type": "code",
   "execution_count": 24,
   "id": "a372f776",
   "metadata": {},
   "outputs": [
    {
     "data": {
      "text/plain": [
       "736"
      ]
     },
     "execution_count": 24,
     "metadata": {},
     "output_type": "execute_result"
    }
   ],
   "source": [
    "import pandas as pd\n",
    "len([x for sublist in list(y['This strainID is present in more than one folder'].values()) for x in sublist])"
   ]
  }
 ],
 "metadata": {
  "kernelspec": {
   "display_name": "jupytervenv",
   "language": "python",
   "name": "jupytervenv"
  },
  "language_info": {
   "codemirror_mode": {
    "name": "ipython",
    "version": 3
   },
   "file_extension": ".py",
   "mimetype": "text/x-python",
   "name": "python",
   "nbconvert_exporter": "python",
   "pygments_lexer": "ipython3",
   "version": "3.10.4"
  }
 },
 "nbformat": 4,
 "nbformat_minor": 5
}
