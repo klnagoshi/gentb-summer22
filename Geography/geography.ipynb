{
 "cells": [
  {
   "cell_type": "code",
   "execution_count": null,
   "id": "b0cbf243",
   "metadata": {},
   "outputs": [],
   "source": [
    "import pandas as pd\n",
    "import numpy as np\n",
    "import json\n",
    "import glob, os, subprocess\n",
    "import geocoder\n",
    "import time\n",
    "import inspect"
   ]
  },
  {
   "cell_type": "code",
   "execution_count": null,
   "id": "ba9a0c16",
   "metadata": {},
   "outputs": [],
   "source": [
    "logs = pd.read_csv('/home/kin672/gentb-summer22/Geography/gentb.haproxy.log', sep=\"\\t\", header=None)\n",
    "logs.columns = [\"original\"]"
   ]
  },
  {
   "cell_type": "code",
   "execution_count": null,
   "id": "7374b7eb",
   "metadata": {},
   "outputs": [],
   "source": [
    "# Isolate the ip addresses\n",
    "temp_ip = logs['original'].str.split(':',expand=True)\n",
    "logs['ip'] = ''\n",
    "for index, row in temp_ip.iterrows():\n",
    "    row = np.array(row)\n",
    "    check = 'messages' in row[0]\n",
    "    if check:\n",
    "        ip = row[4]\n",
    "    else:\n",
    "        ip = row[3]\n",
    "    if ip == '':\n",
    "        print(row)\n",
    "    ip = ip.replace(' ', '')\n",
    "    logs.at[index, 'ip'] = ip"
   ]
  },
  {
   "cell_type": "code",
   "execution_count": null,
   "id": "5d2b48f1",
   "metadata": {},
   "outputs": [],
   "source": [
    "# Isolate the UUIDs\n",
    "temp_uuid= logs['original'].str.split('/',expand=True)\n",
    "logs['uuid'] = ''\n",
    "for index, row in temp_uuid.iterrows():\n",
    "    row = np.array(row)\n",
    "    row_len = np.array([len(str(x)) for x in row])\n",
    "    uuids = list(row[np.where(row_len == 32)])\n",
    "    if len(uuids) == 1:\n",
    "        uuid = uuids[0]\n",
    "        if ' ' in uuid or '=' in uuid or '-' in uuid:\n",
    "            uuid = 'No UUID'\n",
    "        logs.at[index, 'uuid'] = uuid\n",
    "    elif len(uuids) == 0:\n",
    "        logs.at[index, 'uuid'] = 'No UUID'\n",
    "    else:\n",
    "        logs.at[index, 'uuid'] = 'Too many UUIDs?'"
   ]
  },
  {
   "cell_type": "code",
   "execution_count": null,
   "id": "d40e64ca",
   "metadata": {},
   "outputs": [],
   "source": [
    "# Download the unique ips as a csv\n",
    "pd.DataFrame(logs.ip.unique()).to_csv('/home/kin672/gentb-summer22/Geography/unique_ips.csv', index = False)"
   ]
  },
  {
   "cell_type": "code",
   "execution_count": null,
   "id": "4b2a978a",
   "metadata": {},
   "outputs": [],
   "source": [
    "# Convert a list of ip addresses to full set of location info [NOT WORKING]\n",
    "def get_locations(fNames):\n",
    "\n",
    "    latlng = []\n",
    "    country = []\n",
    "    region = []\n",
    "    city = []\n",
    "    \n",
    "    for ip in fNames:\n",
    "        try:\n",
    "            proc = subprocess.Popen(f\"curl ipinfo.io/{ip}?token=80efdb52ccb9b2\", shell=True, encoding='utf8', stdout=subprocess.PIPE)\n",
    "            output = proc.communicate()[0]\n",
    "\n",
    "            latlng.append(output.loc)\n",
    "            country.append(output.country)\n",
    "            region.append(output.region)\n",
    "            city.append(output.city)\n",
    "        except:\n",
    "            latlng.append('Failed')\n",
    "            country.append('Failed')\n",
    "            region.append('Failed')\n",
    "            city.append('Failed')\n",
    "        \n",
    "    return pd.DataFrame({\"IP\": fNames, \"LatLng\": latlng, 'Country': country, 'region': region, 'city' : city})\n"
   ]
  },
  {
   "cell_type": "code",
   "execution_count": null,
   "id": "09fa03d4",
   "metadata": {},
   "outputs": [],
   "source": [
    "# Testing function above\n",
    "fNames = ['114.119.136.111']\n",
    "get_locations(fNames)"
   ]
  },
  {
   "cell_type": "code",
   "execution_count": null,
   "id": "643b1399",
   "metadata": {},
   "outputs": [],
   "source": [
    "# Alternative method if you have enough calls to ipinfo (how to use API key?)\n",
    "ip_guide = {}\n",
    "for ip in logs.ip.unique():\n",
    "    temp = {'latlng':[], 'country':[], 'city':[], 'region': []}\n",
    "    geoitem = geocoder.ip(ip)\n",
    "    time.sleep(30)\n",
    "    temp['latlng'] = geoitem.latlng\n",
    "    temp['country'] = geoitem.country\n",
    "    temp['city'] = geoitem.city\n",
    "    temp['region'] = geoitem.region\n",
    "    ip_guide[ip] = temp"
   ]
  }
 ],
 "metadata": {
  "kernelspec": {
   "display_name": "jupytervenv",
   "language": "python",
   "name": "jupytervenv"
  },
  "language_info": {
   "codemirror_mode": {
    "name": "ipython",
    "version": 3
   },
   "file_extension": ".py",
   "mimetype": "text/x-python",
   "name": "python",
   "nbconvert_exporter": "python",
   "pygments_lexer": "ipython3",
   "version": "3.10.4"
  }
 },
 "nbformat": 4,
 "nbformat_minor": 5
}
