{
 "cells": [
  {
   "cell_type": "code",
   "execution_count": 35,
   "id": "b0cbf243",
   "metadata": {},
   "outputs": [],
   "source": [
    "import pandas as pd\n",
    "import numpy as np\n",
    "import json\n",
    "import glob, os, subprocess\n",
    "import geocoder"
   ]
  },
  {
   "cell_type": "code",
   "execution_count": 5,
   "id": "a366d615",
   "metadata": {},
   "outputs": [],
   "source": [
    "ip_with_url = pd.read_csv('/home/kin672/gentb-summer22/Geography/gentb_ip_cleaned.csv', usecols = ['IP', 'submission_url'])"
   ]
  },
  {
   "cell_type": "code",
   "execution_count": 47,
   "id": "520562b7",
   "metadata": {},
   "outputs": [
    {
     "data": {
      "text/html": [
       "<div>\n",
       "<style scoped>\n",
       "    .dataframe tbody tr th:only-of-type {\n",
       "        vertical-align: middle;\n",
       "    }\n",
       "\n",
       "    .dataframe tbody tr th {\n",
       "        vertical-align: top;\n",
       "    }\n",
       "\n",
       "    .dataframe thead th {\n",
       "        text-align: right;\n",
       "    }\n",
       "</style>\n",
       "<table border=\"1\" class=\"dataframe\">\n",
       "  <thead>\n",
       "    <tr style=\"text-align: right;\">\n",
       "      <th></th>\n",
       "      <th>IP</th>\n",
       "      <th>submission_url</th>\n",
       "      <th>UUID</th>\n",
       "    </tr>\n",
       "  </thead>\n",
       "  <tbody>\n",
       "    <tr>\n",
       "      <th>0</th>\n",
       "      <td>10.120.33.133</td>\n",
       "      <td>https://gentb.hms.harvard.edu/</td>\n",
       "      <td>No UUID</td>\n",
       "    </tr>\n",
       "    <tr>\n",
       "      <th>1</th>\n",
       "      <td>10.120.33.133</td>\n",
       "      <td>https://gentb.hms.harvard.edu/</td>\n",
       "      <td>No UUID</td>\n",
       "    </tr>\n",
       "    <tr>\n",
       "      <th>2</th>\n",
       "      <td>10.120.33.133</td>\n",
       "      <td>https://gentb.hms.harvard.edu/user/login/?next...</td>\n",
       "      <td>No UUID</td>\n",
       "    </tr>\n",
       "    <tr>\n",
       "      <th>3</th>\n",
       "      <td>10.120.33.192</td>\n",
       "      <td>https://gentb.hms.harvard.edu/</td>\n",
       "      <td>No UUID</td>\n",
       "    </tr>\n",
       "    <tr>\n",
       "      <th>4</th>\n",
       "      <td>10.120.33.133</td>\n",
       "      <td>https://gentb.hms.harvard.edu/predict/upload/</td>\n",
       "      <td>No UUID</td>\n",
       "    </tr>\n",
       "    <tr>\n",
       "      <th>...</th>\n",
       "      <td>...</td>\n",
       "      <td>...</td>\n",
       "      <td>...</td>\n",
       "    </tr>\n",
       "    <tr>\n",
       "      <th>8778</th>\n",
       "      <td>134.174.159.101</td>\n",
       "      <td>https://gentb.hms.harvard.edu/predict/upload/f...</td>\n",
       "      <td>No UUID</td>\n",
       "    </tr>\n",
       "    <tr>\n",
       "      <th>8779</th>\n",
       "      <td>134.174.159.101</td>\n",
       "      <td>https://gentb.hms.harvard.edu/index.html</td>\n",
       "      <td>No UUID</td>\n",
       "    </tr>\n",
       "    <tr>\n",
       "      <th>8780</th>\n",
       "      <td>134.174.159.101</td>\n",
       "      <td>https://gentb.hms.harvard.edu/predict/upload/</td>\n",
       "      <td>No UUID</td>\n",
       "    </tr>\n",
       "    <tr>\n",
       "      <th>8781</th>\n",
       "      <td>134.174.159.101</td>\n",
       "      <td>https://gentb.hms.harvard.edu/predict/upload/f...</td>\n",
       "      <td>No UUID</td>\n",
       "    </tr>\n",
       "    <tr>\n",
       "      <th>8782</th>\n",
       "      <td>134.174.159.101</td>\n",
       "      <td>https://gentb.hms.harvard.edu/predict/upload/f...</td>\n",
       "      <td>No UUID</td>\n",
       "    </tr>\n",
       "  </tbody>\n",
       "</table>\n",
       "<p>8783 rows × 3 columns</p>\n",
       "</div>"
      ],
      "text/plain": [
       "                   IP                                     submission_url  \\\n",
       "0       10.120.33.133                     https://gentb.hms.harvard.edu/   \n",
       "1       10.120.33.133                     https://gentb.hms.harvard.edu/   \n",
       "2       10.120.33.133  https://gentb.hms.harvard.edu/user/login/?next...   \n",
       "3       10.120.33.192                     https://gentb.hms.harvard.edu/   \n",
       "4       10.120.33.133      https://gentb.hms.harvard.edu/predict/upload/   \n",
       "...               ...                                                ...   \n",
       "8778  134.174.159.101  https://gentb.hms.harvard.edu/predict/upload/f...   \n",
       "8779  134.174.159.101           https://gentb.hms.harvard.edu/index.html   \n",
       "8780  134.174.159.101      https://gentb.hms.harvard.edu/predict/upload/   \n",
       "8781  134.174.159.101  https://gentb.hms.harvard.edu/predict/upload/f...   \n",
       "8782  134.174.159.101  https://gentb.hms.harvard.edu/predict/upload/f...   \n",
       "\n",
       "         UUID  \n",
       "0     No UUID  \n",
       "1     No UUID  \n",
       "2     No UUID  \n",
       "3     No UUID  \n",
       "4     No UUID  \n",
       "...       ...  \n",
       "8778  No UUID  \n",
       "8779  No UUID  \n",
       "8780  No UUID  \n",
       "8781  No UUID  \n",
       "8782  No UUID  \n",
       "\n",
       "[8783 rows x 3 columns]"
      ]
     },
     "execution_count": 47,
     "metadata": {},
     "output_type": "execute_result"
    }
   ],
   "source": [
    "ip_with_url"
   ]
  },
  {
   "cell_type": "code",
   "execution_count": null,
   "id": "0467f01d",
   "metadata": {},
   "outputs": [],
   "source": [
    "# Pull a list of UUIDs from the urls\n",
    "UUIDs = [x for x in [i.replace('https://gentb.hms.harvard.edu/','') for i in ip_with_url.submission_url] if len(x) > 1]\n",
    "UUIDs = pd.concat([pd.Series(i.split('/')) for i in temp]).unique()\n",
    "UUIDs = [x for x in temp if len(x) == 32]"
   ]
  },
  {
   "cell_type": "code",
   "execution_count": 29,
   "id": "0a930570",
   "metadata": {},
   "outputs": [],
   "source": [
    "# Create the UUID column in the dataframe\n",
    "def find_uuid(url):\n",
    "    uuid = [i for i in UUIDs if i in url]\n",
    "    if len(uuid) == 0:\n",
    "        return('No UUID')\n",
    "    elif len(uuid) == 1:\n",
    "        return(uuid[0])\n",
    "    return('More than one UUID')\n",
    "\n",
    "ip_with_url['UUID'] = [find_uuid(x) for x in ip_with_url.submission_url]"
   ]
  },
  {
   "cell_type": "code",
   "execution_count": 49,
   "id": "97a17166",
   "metadata": {},
   "outputs": [
    {
     "data": {
      "text/plain": [
       "[None, None, 'Boston', 'Boston']"
      ]
     },
     "execution_count": 49,
     "metadata": {},
     "output_type": "execute_result"
    }
   ],
   "source": []
  },
  {
   "cell_type": "code",
   "execution_count": 50,
   "id": "bb62bee2",
   "metadata": {},
   "outputs": [
    {
     "data": {
      "text/plain": [
       "array(['10.120.33.133', '10.120.33.192', '134.174.159.101',\n",
       "       '134.174.159.102'], dtype=object)"
      ]
     },
     "execution_count": 50,
     "metadata": {},
     "output_type": "execute_result"
    }
   ],
   "source": [
    "ip_with_url.IP.unique()"
   ]
  },
  {
   "cell_type": "code",
   "execution_count": 51,
   "id": "29ca41a2",
   "metadata": {},
   "outputs": [
    {
     "data": {
      "text/plain": [
       "[None, None, 'Boston', 'Boston']"
      ]
     },
     "execution_count": 51,
     "metadata": {},
     "output_type": "execute_result"
    }
   ],
   "source": [
    "[geocoder.ip(x).city for x in ip_with_url.IP.unique()]"
   ]
  }
 ],
 "metadata": {
  "kernelspec": {
   "display_name": "jupytervenv",
   "language": "python",
   "name": "jupytervenv"
  },
  "language_info": {
   "codemirror_mode": {
    "name": "ipython",
    "version": 3
   },
   "file_extension": ".py",
   "mimetype": "text/x-python",
   "name": "python",
   "nbconvert_exporter": "python",
   "pygments_lexer": "ipython3",
   "version": "3.10.4"
  }
 },
 "nbformat": 4,
 "nbformat_minor": 5
}
