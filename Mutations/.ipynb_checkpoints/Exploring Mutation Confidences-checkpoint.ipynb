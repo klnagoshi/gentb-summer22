{
 "cells": [
  {
   "cell_type": "code",
   "execution_count": 1,
   "id": "022979ce",
   "metadata": {},
   "outputs": [],
   "source": [
    "import pandas as pd\n",
    "import numpy as np"
   ]
  },
  {
   "cell_type": "code",
   "execution_count": 2,
   "id": "6fa0a195",
   "metadata": {},
   "outputs": [],
   "source": [
    "location_in_json = pd.read_csv('/home/kin672/gentb-summer22/Mutations/GenTB_Important_Mutation_Locations.csv')\n",
    "impt_mutations = pd.read_csv('/home/kin672/gentb-summer22/Mutations/GenTB_Important_Mutations_Only.csv')\n",
    "mutation_to_WHO = pd.read_csv('/home/kin672/gentb-summer22/Mutations/GenTB_Important_Mutations_to_WHOList.csv')\n",
    "resistance = pd.read_csv('/home/kin672/gentb-summer22/Creating Summaries from Relevant Files/7-18 Output/full_df_7-18.csv')"
   ]
  },
  {
   "cell_type": "code",
   "execution_count": 4,
   "id": "ed540961",
   "metadata": {},
   "outputs": [],
   "source": [
    "# End goal columns: Isolate, Mutation, Drug, Confidence, Resistant to Drug?, Index of Sublist, Index within Sublist\n",
    "target = mutation_to_WHO[['Isolate', 'GenTB_Mutation', 'Drug', 'Confidence']]"
   ]
  },
  {
   "cell_type": "code",
   "execution_count": 3,
   "id": "3ce92528",
   "metadata": {},
   "outputs": [
    {
     "ename": "NameError",
     "evalue": "name 'target' is not defined",
     "output_type": "error",
     "traceback": [
      "\u001b[0;31m---------------------------------------------------------------------------\u001b[0m",
      "\u001b[0;31mNameError\u001b[0m                                 Traceback (most recent call last)",
      "Input \u001b[0;32mIn [3]\u001b[0m, in \u001b[0;36m<cell line: 8>\u001b[0;34m()\u001b[0m\n\u001b[1;32m      5\u001b[0m     \u001b[38;5;28;01mreturn\u001b[39;00m(df\u001b[38;5;241m.\u001b[39mloc[(df\u001b[38;5;241m.\u001b[39mID \u001b[38;5;241m==\u001b[39m isolate) \u001b[38;5;241m&\u001b[39m (df\u001b[38;5;241m.\u001b[39mDrug \u001b[38;5;241m==\u001b[39m drug), \u001b[38;5;124m'\u001b[39m\u001b[38;5;124mResistant\u001b[39m\u001b[38;5;124m'\u001b[39m]\u001b[38;5;241m.\u001b[39mvalues[\u001b[38;5;241m0\u001b[39m])\n\u001b[1;32m      7\u001b[0m resistance_col \u001b[38;5;241m=\u001b[39m []\n\u001b[0;32m----> 8\u001b[0m \u001b[38;5;28;01mfor\u001b[39;00m index, row \u001b[38;5;129;01min\u001b[39;00m \u001b[43mtarget\u001b[49m\u001b[38;5;241m.\u001b[39miterrows():\n\u001b[1;32m      9\u001b[0m     isolate \u001b[38;5;241m=\u001b[39m row[\u001b[38;5;124m'\u001b[39m\u001b[38;5;124mIsolate\u001b[39m\u001b[38;5;124m'\u001b[39m]\n\u001b[1;32m     10\u001b[0m     drug \u001b[38;5;241m=\u001b[39m row[\u001b[38;5;124m'\u001b[39m\u001b[38;5;124mDrug\u001b[39m\u001b[38;5;124m'\u001b[39m]\n",
      "\u001b[0;31mNameError\u001b[0m: name 'target' is not defined"
     ]
    }
   ],
   "source": [
    "def resistant_to_drug(isolate, drug, df = resistance):\n",
    "    resistance = pd.read_csv('/home/kin672/gentb-summer22/Creating Summaries from Relevant Files/7-18 Output/full_df_7-18.csv')\n",
    "    if pd.isna(drug):\n",
    "        return('N/A')\n",
    "    return(df.loc[(df.ID == isolate) & (df.Drug == drug), 'Resistant'].values[0])\n",
    "\n",
    "resistance_col = []\n",
    "for index, row in target.iterrows():\n",
    "    isolate = row['Isolate']\n",
    "    drug = row['Drug']\n",
    "    resistance_col.append(resistant_to_drug(isolate, drug))\n",
    "target['Resistant_to_Drug'] = resistance_col"
   ]
  },
  {
   "cell_type": "code",
   "execution_count": 11,
   "id": "02f558fd",
   "metadata": {},
   "outputs": [
    {
     "data": {
      "text/plain": [
       "[0, 0, 0, 0, 0, 0, 0, 0, 0, 0, 0, 0, 0, 0, 0, 0, 0, 0, 1, 0]"
      ]
     },
     "execution_count": 11,
     "metadata": {},
     "output_type": "execute_result"
    }
   ],
   "source": [
    "def sublist_indices(isolate, mutation, df = location_in_json):\n",
    "    try:\n",
    "        sublist_index = df.loc[(df.Isolate == isolate) & (df.Mutation == mutation), 'Sublist_index'].values[0]\n",
    "        index_in_sublist = df.loc[(df.Isolate == isolate) & (df.Mutation == mutation), 'Index_within_sublist'].values[0]\n",
    "    except:\n",
    "        return([mutation, mutation])\n",
    "    return([sublist_index, index_in_sublist])\n",
    "\n",
    "sublist_col = []\n",
    "index_in_sublist_col = []\n",
    "for index, row in target.iterrows():\n",
    "    isolate = row['Isolate']\n",
    "    mutation = row['GenTB_Mutation']\n",
    "    indices = sublist_indices(isolate, mutation)\n",
    "    sublist_col.append(indices[0])\n",
    "    index_in_sublist_col.append(indices[1])\n",
    "    \n",
    "target['Index_of_Sublist'] = sublist_col\n",
    "target['Index_within_Sublist'] = index_in_sublist_col\n"
   ]
  },
  {
   "cell_type": "code",
   "execution_count": null,
   "id": "360a3121",
   "metadata": {},
   "outputs": [],
   "source": [
    "target.to_csv('/home/kin672/gentb-summer22/Mutations/GenTB_Important_Mutation_with_Predicted_Resistance.csv')"
   ]
  }
 ],
 "metadata": {
  "kernelspec": {
   "display_name": "jupytervenv",
   "language": "python",
   "name": "jupytervenv"
  },
  "language_info": {
   "codemirror_mode": {
    "name": "ipython",
    "version": 3
   },
   "file_extension": ".py",
   "mimetype": "text/x-python",
   "name": "python",
   "nbconvert_exporter": "python",
   "pygments_lexer": "ipython3",
   "version": "3.10.4"
  }
 },
 "nbformat": 4,
 "nbformat_minor": 5
}
