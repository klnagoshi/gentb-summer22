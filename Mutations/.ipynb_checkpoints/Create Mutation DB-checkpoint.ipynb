{
 "cells": [
  {
   "cell_type": "code",
   "execution_count": 1,
   "id": "6a47e643",
   "metadata": {},
   "outputs": [],
   "source": [
    "import pandas as pd\n",
    "import numpy as np\n",
    "import json\n",
    "from pandas.api.types import CategoricalDtype"
   ]
  },
  {
   "cell_type": "code",
   "execution_count": 2,
   "id": "3377a5d7",
   "metadata": {},
   "outputs": [
    {
     "data": {
      "text/html": [
       "<div>\n",
       "<style scoped>\n",
       "    .dataframe tbody tr th:only-of-type {\n",
       "        vertical-align: middle;\n",
       "    }\n",
       "\n",
       "    .dataframe tbody tr th {\n",
       "        vertical-align: top;\n",
       "    }\n",
       "\n",
       "    .dataframe thead th {\n",
       "        text-align: right;\n",
       "    }\n",
       "</style>\n",
       "<table border=\"1\" class=\"dataframe\">\n",
       "  <thead>\n",
       "    <tr style=\"text-align: right;\">\n",
       "      <th></th>\n",
       "      <th>Unnamed: 0</th>\n",
       "      <th>drug</th>\n",
       "      <th>genome_index</th>\n",
       "      <th>confidence</th>\n",
       "      <th>gene</th>\n",
       "      <th>variant</th>\n",
       "    </tr>\n",
       "  </thead>\n",
       "  <tbody>\n",
       "    <tr>\n",
       "      <th>0</th>\n",
       "      <td>0</td>\n",
       "      <td>AMI</td>\n",
       "      <td>4268928</td>\n",
       "      <td>3) Uncertain significance</td>\n",
       "      <td>aftB</td>\n",
       "      <td>aftB_c-92t</td>\n",
       "    </tr>\n",
       "    <tr>\n",
       "      <th>1</th>\n",
       "      <td>1</td>\n",
       "      <td>AMI</td>\n",
       "      <td>4268964</td>\n",
       "      <td>3) Uncertain significance</td>\n",
       "      <td>aftB</td>\n",
       "      <td>aftB_g-128t</td>\n",
       "    </tr>\n",
       "    <tr>\n",
       "      <th>2</th>\n",
       "      <td>2</td>\n",
       "      <td>AMI</td>\n",
       "      <td>619747</td>\n",
       "      <td>3) Uncertain significance</td>\n",
       "      <td>ccsA</td>\n",
       "      <td>ccsA_c-144a</td>\n",
       "    </tr>\n",
       "    <tr>\n",
       "      <th>3</th>\n",
       "      <td>3</td>\n",
       "      <td>AMI</td>\n",
       "      <td>619700</td>\n",
       "      <td>3) Uncertain significance</td>\n",
       "      <td>ccsA</td>\n",
       "      <td>ccsA_c-191t</td>\n",
       "    </tr>\n",
       "    <tr>\n",
       "      <th>4</th>\n",
       "      <td>4</td>\n",
       "      <td>AMI</td>\n",
       "      <td>619795</td>\n",
       "      <td>3) Uncertain significance</td>\n",
       "      <td>ccsA</td>\n",
       "      <td>ccsA_c-96g</td>\n",
       "    </tr>\n",
       "    <tr>\n",
       "      <th>...</th>\n",
       "      <td>...</td>\n",
       "      <td>...</td>\n",
       "      <td>...</td>\n",
       "      <td>...</td>\n",
       "      <td>...</td>\n",
       "      <td>...</td>\n",
       "    </tr>\n",
       "    <tr>\n",
       "      <th>17528</th>\n",
       "      <td>17567</td>\n",
       "      <td>STM</td>\n",
       "      <td>3568779</td>\n",
       "      <td>5) Not assoc w R</td>\n",
       "      <td>whiB7</td>\n",
       "      <td>whiB7_t-100c</td>\n",
       "    </tr>\n",
       "    <tr>\n",
       "      <th>17529</th>\n",
       "      <td>17568</td>\n",
       "      <td>STM</td>\n",
       "      <td>4407620</td>\n",
       "      <td>5) Not assoc w R</td>\n",
       "      <td>gid</td>\n",
       "      <td>gid_Y195H</td>\n",
       "    </tr>\n",
       "    <tr>\n",
       "      <th>17530</th>\n",
       "      <td>17569</td>\n",
       "      <td>STM</td>\n",
       "      <td>3568488</td>\n",
       "      <td>5) Not assoc w R</td>\n",
       "      <td>whiB7</td>\n",
       "      <td>whiB7_192_del_1_gc_g</td>\n",
       "    </tr>\n",
       "    <tr>\n",
       "      <th>17531</th>\n",
       "      <td>17570</td>\n",
       "      <td>STM</td>\n",
       "      <td>1472337</td>\n",
       "      <td>5) Not assoc w R</td>\n",
       "      <td>rrs</td>\n",
       "      <td>rrs_c492t</td>\n",
       "    </tr>\n",
       "    <tr>\n",
       "      <th>17532</th>\n",
       "      <td>17572</td>\n",
       "      <td>STM</td>\n",
       "      <td>4338589</td>\n",
       "      <td>5) Not assoc w R</td>\n",
       "      <td>whiB6</td>\n",
       "      <td>whiB6_-68_del_1_ctccgagc_cgccgag</td>\n",
       "    </tr>\n",
       "  </tbody>\n",
       "</table>\n",
       "<p>17533 rows × 6 columns</p>\n",
       "</div>"
      ],
      "text/plain": [
       "       Unnamed: 0 drug genome_index                 confidence   gene  \\\n",
       "0               0  AMI      4268928  3) Uncertain significance   aftB   \n",
       "1               1  AMI      4268964  3) Uncertain significance   aftB   \n",
       "2               2  AMI       619747  3) Uncertain significance   ccsA   \n",
       "3               3  AMI       619700  3) Uncertain significance   ccsA   \n",
       "4               4  AMI       619795  3) Uncertain significance   ccsA   \n",
       "...           ...  ...          ...                        ...    ...   \n",
       "17528       17567  STM      3568779           5) Not assoc w R  whiB7   \n",
       "17529       17568  STM      4407620           5) Not assoc w R    gid   \n",
       "17530       17569  STM      3568488           5) Not assoc w R  whiB7   \n",
       "17531       17570  STM      1472337           5) Not assoc w R    rrs   \n",
       "17532       17572  STM      4338589           5) Not assoc w R  whiB6   \n",
       "\n",
       "                                variant  \n",
       "0                            aftB_c-92t  \n",
       "1                           aftB_g-128t  \n",
       "2                           ccsA_c-144a  \n",
       "3                           ccsA_c-191t  \n",
       "4                            ccsA_c-96g  \n",
       "...                                 ...  \n",
       "17528                      whiB7_t-100c  \n",
       "17529                         gid_Y195H  \n",
       "17530              whiB7_192_del_1_gc_g  \n",
       "17531                         rrs_c492t  \n",
       "17532  whiB6_-68_del_1_ctccgagc_cgccgag  \n",
       "\n",
       "[17533 rows x 6 columns]"
      ]
     },
     "execution_count": 2,
     "metadata": {},
     "output_type": "execute_result"
    }
   ],
   "source": [
    "mutations = pd.read_csv('/n/data1/hms/dbmi/farhat/Sanjana/MIC_data/WHO_resistance_variants_all.csv')\n",
    "mutations"
   ]
  },
  {
   "cell_type": "code",
   "execution_count": 3,
   "id": "4f7c1486",
   "metadata": {},
   "outputs": [
    {
     "data": {
      "text/plain": [
       "array(['AMI', 'BDQ', 'CAP', 'CFZ', 'DLM', 'EMB', 'ETH', 'INH', 'KAN',\n",
       "       'LZD', 'PZA', 'RIF', 'STM', 'LEV', 'MXF'], dtype=object)"
      ]
     },
     "execution_count": 3,
     "metadata": {},
     "output_type": "execute_result"
    }
   ],
   "source": [
    "mutations.drug.unique()"
   ]
  },
  {
   "cell_type": "code",
   "execution_count": 4,
   "id": "534702f8",
   "metadata": {},
   "outputs": [],
   "source": [
    "drug_translation = {'AMI': 'amk', 'BDQ': 'bdq', 'CAP':'cap', 'CFZ':'cfz', 'DLM':'dlm', 'EMB':'emb', 'ETH':'eth', 'INH':'inh', 'KAN':'kan',\n",
    "       'LZD':'lzd', 'PZA':'pza', 'RIF':'rif', 'STM':'str', 'LEV':'levo', 'MXF': 'moxi'}\n",
    "mutations.drug = [drug_translation[original] for original in mutations.drug]"
   ]
  },
  {
   "cell_type": "code",
   "execution_count": 5,
   "id": "568d6024",
   "metadata": {},
   "outputs": [],
   "source": [
    "mutations = mutations.loc[[drug in ['amk', 'cap', 'emb', 'eth', 'inh', 'kan', 'rif', 'pza', 'str', 'levo'] for drug in mutations.drug],:]"
   ]
  },
  {
   "cell_type": "code",
   "execution_count": 6,
   "id": "c384370e",
   "metadata": {},
   "outputs": [
    {
     "data": {
      "text/html": [
       "<div>\n",
       "<style scoped>\n",
       "    .dataframe tbody tr th:only-of-type {\n",
       "        vertical-align: middle;\n",
       "    }\n",
       "\n",
       "    .dataframe tbody tr th {\n",
       "        vertical-align: top;\n",
       "    }\n",
       "\n",
       "    .dataframe thead th {\n",
       "        text-align: right;\n",
       "    }\n",
       "</style>\n",
       "<table border=\"1\" class=\"dataframe\">\n",
       "  <thead>\n",
       "    <tr style=\"text-align: right;\">\n",
       "      <th></th>\n",
       "      <th>Unnamed: 0</th>\n",
       "      <th>drug</th>\n",
       "      <th>genome_index</th>\n",
       "      <th>confidence</th>\n",
       "      <th>gene</th>\n",
       "      <th>variant</th>\n",
       "    </tr>\n",
       "  </thead>\n",
       "  <tbody>\n",
       "    <tr>\n",
       "      <th>0</th>\n",
       "      <td>0</td>\n",
       "      <td>amk</td>\n",
       "      <td>4268928</td>\n",
       "      <td>3) Uncertain significance</td>\n",
       "      <td>aftB</td>\n",
       "      <td>aftB_c-92t</td>\n",
       "    </tr>\n",
       "    <tr>\n",
       "      <th>1</th>\n",
       "      <td>1</td>\n",
       "      <td>amk</td>\n",
       "      <td>4268964</td>\n",
       "      <td>3) Uncertain significance</td>\n",
       "      <td>aftB</td>\n",
       "      <td>aftB_g-128t</td>\n",
       "    </tr>\n",
       "    <tr>\n",
       "      <th>2</th>\n",
       "      <td>2</td>\n",
       "      <td>amk</td>\n",
       "      <td>619747</td>\n",
       "      <td>3) Uncertain significance</td>\n",
       "      <td>ccsA</td>\n",
       "      <td>ccsA_c-144a</td>\n",
       "    </tr>\n",
       "    <tr>\n",
       "      <th>3</th>\n",
       "      <td>3</td>\n",
       "      <td>amk</td>\n",
       "      <td>619700</td>\n",
       "      <td>3) Uncertain significance</td>\n",
       "      <td>ccsA</td>\n",
       "      <td>ccsA_c-191t</td>\n",
       "    </tr>\n",
       "    <tr>\n",
       "      <th>4</th>\n",
       "      <td>4</td>\n",
       "      <td>amk</td>\n",
       "      <td>619795</td>\n",
       "      <td>3) Uncertain significance</td>\n",
       "      <td>ccsA</td>\n",
       "      <td>ccsA_c-96g</td>\n",
       "    </tr>\n",
       "    <tr>\n",
       "      <th>...</th>\n",
       "      <td>...</td>\n",
       "      <td>...</td>\n",
       "      <td>...</td>\n",
       "      <td>...</td>\n",
       "      <td>...</td>\n",
       "      <td>...</td>\n",
       "    </tr>\n",
       "    <tr>\n",
       "      <th>17528</th>\n",
       "      <td>17567</td>\n",
       "      <td>str</td>\n",
       "      <td>3568779</td>\n",
       "      <td>5) Not assoc w R</td>\n",
       "      <td>whiB7</td>\n",
       "      <td>whiB7_t-100c</td>\n",
       "    </tr>\n",
       "    <tr>\n",
       "      <th>17529</th>\n",
       "      <td>17568</td>\n",
       "      <td>str</td>\n",
       "      <td>4407620</td>\n",
       "      <td>5) Not assoc w R</td>\n",
       "      <td>gid</td>\n",
       "      <td>gid_Y195H</td>\n",
       "    </tr>\n",
       "    <tr>\n",
       "      <th>17530</th>\n",
       "      <td>17569</td>\n",
       "      <td>str</td>\n",
       "      <td>3568488</td>\n",
       "      <td>5) Not assoc w R</td>\n",
       "      <td>whiB7</td>\n",
       "      <td>whiB7_192_del_1_gc_g</td>\n",
       "    </tr>\n",
       "    <tr>\n",
       "      <th>17531</th>\n",
       "      <td>17570</td>\n",
       "      <td>str</td>\n",
       "      <td>1472337</td>\n",
       "      <td>5) Not assoc w R</td>\n",
       "      <td>rrs</td>\n",
       "      <td>rrs_c492t</td>\n",
       "    </tr>\n",
       "    <tr>\n",
       "      <th>17532</th>\n",
       "      <td>17572</td>\n",
       "      <td>str</td>\n",
       "      <td>4338589</td>\n",
       "      <td>5) Not assoc w R</td>\n",
       "      <td>whiB6</td>\n",
       "      <td>whiB6_-68_del_1_ctccgagc_cgccgag</td>\n",
       "    </tr>\n",
       "  </tbody>\n",
       "</table>\n",
       "<p>15029 rows × 6 columns</p>\n",
       "</div>"
      ],
      "text/plain": [
       "       Unnamed: 0 drug genome_index                 confidence   gene  \\\n",
       "0               0  amk      4268928  3) Uncertain significance   aftB   \n",
       "1               1  amk      4268964  3) Uncertain significance   aftB   \n",
       "2               2  amk       619747  3) Uncertain significance   ccsA   \n",
       "3               3  amk       619700  3) Uncertain significance   ccsA   \n",
       "4               4  amk       619795  3) Uncertain significance   ccsA   \n",
       "...           ...  ...          ...                        ...    ...   \n",
       "17528       17567  str      3568779           5) Not assoc w R  whiB7   \n",
       "17529       17568  str      4407620           5) Not assoc w R    gid   \n",
       "17530       17569  str      3568488           5) Not assoc w R  whiB7   \n",
       "17531       17570  str      1472337           5) Not assoc w R    rrs   \n",
       "17532       17572  str      4338589           5) Not assoc w R  whiB6   \n",
       "\n",
       "                                variant  \n",
       "0                            aftB_c-92t  \n",
       "1                           aftB_g-128t  \n",
       "2                           ccsA_c-144a  \n",
       "3                           ccsA_c-191t  \n",
       "4                            ccsA_c-96g  \n",
       "...                                 ...  \n",
       "17528                      whiB7_t-100c  \n",
       "17529                         gid_Y195H  \n",
       "17530              whiB7_192_del_1_gc_g  \n",
       "17531                         rrs_c492t  \n",
       "17532  whiB6_-68_del_1_ctccgagc_cgccgag  \n",
       "\n",
       "[15029 rows x 6 columns]"
      ]
     },
     "execution_count": 6,
     "metadata": {},
     "output_type": "execute_result"
    }
   ],
   "source": [
    "mutations"
   ]
  },
  {
   "cell_type": "code",
   "execution_count": 7,
   "id": "9d885179",
   "metadata": {},
   "outputs": [],
   "source": [
    "with open('//home//kin672//gentb-summer22//Isolating Relevant Files//7-18 Output//relevant_file_names_7-18.json') as f:\n",
    "    relevant_files = json.load(f) # This is a dictionary with format {STRAIN ID: {Folder: , Resistance, Lineage}"
   ]
  },
  {
   "cell_type": "code",
   "execution_count": 18,
   "id": "2fb7ace4",
   "metadata": {},
   "outputs": [
    {
     "data": {
      "text/plain": [
       "array(['3) Uncertain significance', '5) Not assoc w R', '1) Assoc w R',\n",
       "       '2) Assoc w R - Interim', '4) Not assoc w R - Interim'],\n",
       "      dtype=object)"
      ]
     },
     "execution_count": 18,
     "metadata": {},
     "output_type": "execute_result"
    }
   ],
   "source": [
    "mutations.confidence.unique()"
   ]
  },
  {
   "cell_type": "code",
   "execution_count": 40,
   "id": "459129d1",
   "metadata": {},
   "outputs": [],
   "source": [
    "mut_list = [i for sublist in resistance[1].values() for sublist2 in sublist for i in sublist2 if i != None]"
   ]
  },
  {
   "cell_type": "code",
   "execution_count": 54,
   "id": "22ace0a1",
   "metadata": {},
   "outputs": [],
   "source": [
    "temp = pd.DataFrame({'mutation' : mut_list, 'confidence': range(len(mut_list))})\n",
    "temp['confidence'] = 'unfilled'"
   ]
  },
  {
   "cell_type": "code",
   "execution_count": 55,
   "id": "e70dc097",
   "metadata": {},
   "outputs": [
    {
     "data": {
      "text/html": [
       "<div>\n",
       "<style scoped>\n",
       "    .dataframe tbody tr th:only-of-type {\n",
       "        vertical-align: middle;\n",
       "    }\n",
       "\n",
       "    .dataframe tbody tr th {\n",
       "        vertical-align: top;\n",
       "    }\n",
       "\n",
       "    .dataframe thead th {\n",
       "        text-align: right;\n",
       "    }\n",
       "</style>\n",
       "<table border=\"1\" class=\"dataframe\">\n",
       "  <thead>\n",
       "    <tr style=\"text-align: right;\">\n",
       "      <th></th>\n",
       "      <th>mutation</th>\n",
       "      <th>confidence</th>\n",
       "    </tr>\n",
       "  </thead>\n",
       "  <tbody>\n",
       "    <tr>\n",
       "      <th>0</th>\n",
       "      <td>SNP_CN_2155168_C944G_S315T_katG</td>\n",
       "      <td>unfilled</td>\n",
       "    </tr>\n",
       "    <tr>\n",
       "      <th>1</th>\n",
       "      <td>SNP_CN_4408156_A47C_L16R_gid</td>\n",
       "      <td>unfilled</td>\n",
       "    </tr>\n",
       "  </tbody>\n",
       "</table>\n",
       "</div>"
      ],
      "text/plain": [
       "                          mutation confidence\n",
       "0  SNP_CN_2155168_C944G_S315T_katG   unfilled\n",
       "1     SNP_CN_4408156_A47C_L16R_gid   unfilled"
      ]
     },
     "execution_count": 55,
     "metadata": {},
     "output_type": "execute_result"
    }
   ],
   "source": [
    "temp"
   ]
  },
  {
   "cell_type": "code",
   "execution_count": 38,
   "id": "f75d9104",
   "metadata": {},
   "outputs": [
    {
     "data": {
      "text/html": [
       "<div>\n",
       "<style scoped>\n",
       "    .dataframe tbody tr th:only-of-type {\n",
       "        vertical-align: middle;\n",
       "    }\n",
       "\n",
       "    .dataframe tbody tr th {\n",
       "        vertical-align: top;\n",
       "    }\n",
       "\n",
       "    .dataframe thead th {\n",
       "        text-align: right;\n",
       "    }\n",
       "</style>\n",
       "<table border=\"1\" class=\"dataframe\">\n",
       "  <thead>\n",
       "    <tr style=\"text-align: right;\">\n",
       "      <th></th>\n",
       "      <th>Unnamed: 0</th>\n",
       "      <th>drug</th>\n",
       "      <th>genome_index</th>\n",
       "      <th>confidence</th>\n",
       "      <th>gene</th>\n",
       "      <th>variant</th>\n",
       "    </tr>\n",
       "  </thead>\n",
       "  <tbody>\n",
       "  </tbody>\n",
       "</table>\n",
       "</div>"
      ],
      "text/plain": [
       "Empty DataFrame\n",
       "Columns: [Unnamed: 0, drug, genome_index, confidence, gene, variant]\n",
       "Index: []"
      ]
     },
     "execution_count": 38,
     "metadata": {},
     "output_type": "execute_result"
    }
   ],
   "source": [
    "mutations.loc[mutations['gene'].isin(), :]"
   ]
  },
  {
   "cell_type": "code",
   "execution_count": 33,
   "id": "3c74c677",
   "metadata": {},
   "outputs": [
    {
     "data": {
      "text/plain": [
       "array(['aftB_c-92t', 'aftB_g-128t', 'ccsA_c-144a', ..., 'gid_E92D',\n",
       "       'gid_L16R', 'gid_Y195H'], dtype=object)"
      ]
     },
     "execution_count": 33,
     "metadata": {},
     "output_type": "execute_result"
    }
   ],
   "source": [
    "mutations.variant.unique()"
   ]
  },
  {
   "cell_type": "code",
   "execution_count": 8,
   "id": "a14a52a7",
   "metadata": {},
   "outputs": [],
   "source": [
    "prefix = '//n//groups//gentb_www//predictData//'\n",
    "\n",
    "# Parse through every unique strainID that we have resistance and lineage data for\n",
    "# for strainID in relevant_files:\n",
    "for strainID in ['TEST0182']:\n",
    "    value = relevant_files.get(strainID)\n",
    "    json_path = prefix + value.get('Folder') + '//' + value.get('Resistance')\n",
    "    \n",
    "    # Parse json\n",
    "    with open(json_path) as f:\n",
    "        resistance = json.load(f)\n",
    "        "
   ]
  },
  {
   "cell_type": "code",
   "execution_count": 12,
   "id": "888730ff",
   "metadata": {},
   "outputs": [
    {
     "data": {
      "text/plain": [
       "{'/n/groups/gentb_www/predictData/tbdata_00001288/TEST0182': [['SNP_CN_2155168_C944G_S315T_katG',\n",
       "   None,\n",
       "   None,\n",
       "   None,\n",
       "   'SNP_CN_4408156_A47C_L16R_gid',\n",
       "   None,\n",
       "   None,\n",
       "   None,\n",
       "   None,\n",
       "   None,\n",
       "   None,\n",
       "   None,\n",
       "   None],\n",
       "  [None,\n",
       "   None,\n",
       "   None,\n",
       "   None,\n",
       "   None,\n",
       "   None,\n",
       "   None,\n",
       "   None,\n",
       "   None,\n",
       "   None,\n",
       "   None,\n",
       "   None,\n",
       "   None],\n",
       "  [None,\n",
       "   None,\n",
       "   None,\n",
       "   None,\n",
       "   None,\n",
       "   None,\n",
       "   None,\n",
       "   None,\n",
       "   None,\n",
       "   None,\n",
       "   None,\n",
       "   None,\n",
       "   None],\n",
       "  [None,\n",
       "   None,\n",
       "   None,\n",
       "   None,\n",
       "   None,\n",
       "   None,\n",
       "   None,\n",
       "   None,\n",
       "   None,\n",
       "   None,\n",
       "   None,\n",
       "   None,\n",
       "   None],\n",
       "  [None,\n",
       "   None,\n",
       "   None,\n",
       "   None,\n",
       "   None,\n",
       "   None,\n",
       "   None,\n",
       "   None,\n",
       "   None,\n",
       "   None,\n",
       "   None,\n",
       "   None,\n",
       "   None]]}"
      ]
     },
     "execution_count": 12,
     "metadata": {},
     "output_type": "execute_result"
    }
   ],
   "source": [
    "resistance[1]"
   ]
  },
  {
   "cell_type": "code",
   "execution_count": 11,
   "id": "0683bef0",
   "metadata": {},
   "outputs": [
    {
     "data": {
      "text/plain": [
       "{'/n/groups/gentb_www/predictData/tbdata_00001288/TEST0182': [[None,\n",
       "   None,\n",
       "   None,\n",
       "   None,\n",
       "   'SNP_P_781395_T165C_promoter-rpsL',\n",
       "   None,\n",
       "   None,\n",
       "   None,\n",
       "   None,\n",
       "   None,\n",
       "   None,\n",
       "   None,\n",
       "   'SNP_CN_3073868_T604C_T202A_thyA'],\n",
       "  [None,\n",
       "   None,\n",
       "   None,\n",
       "   None,\n",
       "   None,\n",
       "   None,\n",
       "   None,\n",
       "   None,\n",
       "   None,\n",
       "   None,\n",
       "   None,\n",
       "   None,\n",
       "   None],\n",
       "  [None,\n",
       "   None,\n",
       "   None,\n",
       "   None,\n",
       "   None,\n",
       "   None,\n",
       "   None,\n",
       "   None,\n",
       "   None,\n",
       "   None,\n",
       "   None,\n",
       "   None,\n",
       "   None],\n",
       "  [None,\n",
       "   None,\n",
       "   None,\n",
       "   None,\n",
       "   None,\n",
       "   None,\n",
       "   None,\n",
       "   None,\n",
       "   None,\n",
       "   None,\n",
       "   None,\n",
       "   None,\n",
       "   None],\n",
       "  [None,\n",
       "   None,\n",
       "   None,\n",
       "   None,\n",
       "   None,\n",
       "   None,\n",
       "   None,\n",
       "   None,\n",
       "   None,\n",
       "   None,\n",
       "   None,\n",
       "   None,\n",
       "   None]]}"
      ]
     },
     "execution_count": 11,
     "metadata": {},
     "output_type": "execute_result"
    }
   ],
   "source": [
    "resistance[2]"
   ]
  },
  {
   "cell_type": "code",
   "execution_count": 13,
   "id": "4d7bc460",
   "metadata": {},
   "outputs": [
    {
     "data": {
      "text/plain": [
       "{'0': ['Null',\n",
       "  'Null',\n",
       "  'Null',\n",
       "  'Null',\n",
       "  'SNP_CN_4407991_C212T_G71E_gid',\n",
       "  'Null',\n",
       "  'Null',\n",
       "  'Null',\n",
       "  'Null',\n",
       "  'Null',\n",
       "  'Null',\n",
       "  'Null',\n",
       "  'SNP_CN_2747151_T448C_S150G_folC']}"
      ]
     },
     "execution_count": 13,
     "metadata": {},
     "output_type": "execute_result"
    }
   ],
   "source": [
    "resistance[3]"
   ]
  },
  {
   "cell_type": "code",
   "execution_count": 16,
   "id": "651148d5",
   "metadata": {},
   "outputs": [
    {
     "data": {
      "text/plain": [
       "{'0': ['Null',\n",
       "  'Null',\n",
       "  'Null',\n",
       "  'Null',\n",
       "  'Null',\n",
       "  'Null',\n",
       "  'Null',\n",
       "  'Null',\n",
       "  'Null',\n",
       "  'Null',\n",
       "  'Null',\n",
       "  'Null',\n",
       "  'Null']}"
      ]
     },
     "execution_count": 16,
     "metadata": {},
     "output_type": "execute_result"
    }
   ],
   "source": [
    "resistance[4]"
   ]
  }
 ],
 "metadata": {
  "kernelspec": {
   "display_name": "jupytervenv",
   "language": "python",
   "name": "jupytervenv"
  },
  "language_info": {
   "codemirror_mode": {
    "name": "ipython",
    "version": 3
   },
   "file_extension": ".py",
   "mimetype": "text/x-python",
   "name": "python",
   "nbconvert_exporter": "python",
   "pygments_lexer": "ipython3",
   "version": "3.10.4"
  }
 },
 "nbformat": 4,
 "nbformat_minor": 5
}
