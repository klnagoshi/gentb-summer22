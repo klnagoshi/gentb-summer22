{
 "cells": [
  {
   "cell_type": "code",
   "execution_count": 37,
   "id": "6a47e643",
   "metadata": {},
   "outputs": [],
   "source": [
    "import pandas as pd\n",
    "import numpy as np\n",
    "import json\n",
    "from pandas.api.types import CategoricalDtype\n",
    "import re"
   ]
  },
  {
   "cell_type": "code",
   "execution_count": 2,
   "id": "3377a5d7",
   "metadata": {},
   "outputs": [],
   "source": [
    "mutations = pd.read_csv('/n/data1/hms/dbmi/farhat/Sanjana/MIC_data/WHO_resistance_variants_all.csv')"
   ]
  },
  {
   "cell_type": "code",
   "execution_count": 3,
   "id": "534702f8",
   "metadata": {},
   "outputs": [],
   "source": [
    "# Switching the abbreviations to the ones that I've been using, and removing any that I haven't been working with\n",
    "drug_translation = {'AMI': 'amk', 'BDQ': 'bdq', 'CAP':'cap', 'CFZ':'cfz', 'DLM':'dlm', 'EMB':'emb', 'ETH':'eth', 'INH':'inh', 'KAN':'kan',\n",
    "       'LZD':'lzd', 'PZA':'pza', 'RIF':'rif', 'STM':'str', 'LEV':'levo', 'MXF': 'moxi'}\n",
    "mutations.drug = [drug_translation[original] for original in mutations.drug]\n",
    "mutations = mutations.loc[[drug in ['amk', 'cap', 'emb', 'eth', 'inh', 'kan', 'rif', 'pza', 'str', 'levo'] for drug in mutations.drug],:]\n",
    "mutations['searchable_variant'] = [str(i).replace('-','').upper() for i in list(mutations.variant)]"
   ]
  },
  {
   "cell_type": "code",
   "execution_count": 4,
   "id": "9d885179",
   "metadata": {},
   "outputs": [],
   "source": [
    "with open('//home//kin672//gentb-summer22//Isolating Relevant Files//7-18 Output//relevant_file_names_7-18.json') as f:\n",
    "    relevant_files = json.load(f) # This is a dictionary with format {STRAIN ID: {Folder: , Resistance: , Lineage: }"
   ]
  },
  {
   "cell_type": "code",
   "execution_count": 29,
   "id": "22ace0a1",
   "metadata": {},
   "outputs": [],
   "source": [
    "def break_down(string):\n",
    "    broken = {'original': string, 'gene': [], '1': [], '2': [], 'genome_index': [], 'change': []}\n",
    "    temp = re.split('_|\\\\.', string)\n",
    "    if not len(temp) >= 5:\n",
    "        print(string)\n",
    "    try:\n",
    "        broken['gene'] = temp.pop(-1)\n",
    "        broken['1'] = temp.pop(0)\n",
    "        broken['2'] = temp.pop(0)\n",
    "        broken['genome_index'] = temp.pop(0)\n",
    "        broken['change'] = temp\n",
    "    except:\n",
    "        return(broken)\n",
    "\n",
    "    return(broken)\n"
   ]
  },
  {
   "cell_type": "code",
   "execution_count": 8,
   "id": "d59689d4",
   "metadata": {},
   "outputs": [],
   "source": [
    "final_db = pd.DataFrame({'isolate':[], 'drug':[], 'confidence':[], 'gene':[], 'genome_index':[], 'GenTB Mutation':[], 'WHO Variant':[]})"
   ]
  },
  {
   "cell_type": "code",
   "execution_count": 7,
   "id": "810f1e6a",
   "metadata": {},
   "outputs": [
    {
     "name": "stdout",
     "output_type": "stream",
     "text": [
      "11AA_promoter-embA-embB\n",
      "11AA_promoter-embA-embB\n",
      "Isolate: 1773.18437_res, Mutation: 11AA_promoter-embA-embB\n"
     ]
    }
   ],
   "source": [
    "problems = {'The JSON is weird': [], 'This mutation is weird': {'Isolate':[], 'Mutation':[]}}\n",
    "mutation_count = {'Isolate':[], 'Num_Mutations':[]}\n",
    "\n",
    "prefix = '//n//groups//gentb_www//predictData//'\n",
    "\n",
    "# Loop through every unique isolate\n",
    "for strainID in relevant_files:\n",
    "    value = relevant_files.get(strainID)\n",
    "    json_path = prefix + value.get('Folder') + '//' + value.get('Resistance')\n",
    "    \n",
    "    # Parse json\n",
    "    with open(json_path) as f:\n",
    "        resistance = json.load(f) \n",
    "    \n",
    "    # Get full list of resistance-related mutations for this isolate\n",
    "    try:\n",
    "        mut_list = [i for sublist in resistance[1].values() for sublist2 in sublist for i in sublist2 if i != None and i != 'Null']\n",
    "        mut_list = mut_list + [i for sublist in resistance[2].values() for sublist2 in sublist for i in sublist2 if i != None and i != 'Null']\n",
    "        mut_list = mut_list + [item for sublist in resistance[3].values() for item in sublist if item != None and item != 'Null']\n",
    "        mut_list = list(pd.Series(mut_list).unique())\n",
    "    except:\n",
    "        try:\n",
    "            mut_list = [i for sublist in resistance[1].values() for sublist2 in sublist for i in sublist2 if i != None and i != 'Null']\n",
    "            mut_list = mut_list + [i for sublist in resistance[2].values() for sublist2 in sublist for i in sublist2 if i != None and i != 'Null']\n",
    "        except:\n",
    "            problems['The JSON is weird'].append(str(strainID))\n",
    "            continue\n",
    "    \n",
    "    # Record the total number of mutations\n",
    "    mutation_count['Isolate'].append(strainID)\n",
    "    mutation_count['Num_Mutations'].append(len(mut_list))\n",
    "    \n",
    "    # Don't even attempt to parse if the list is empty\n",
    "    if len(mut_list) == 0:\n",
    "        continue\n",
    "    \n",
    "    # Match the mutation with the corresponding mutation(s) in the WHO database\n",
    "    for mut in mut_list:\n",
    "        x = break_down(mut)\n",
    "        if x == 'Bad Breakdown' or [] in x.values():\n",
    "            problems['This mutation is weird']['Isolate'].append(str(strainID))\n",
    "            problems['This mutation is weird']['Mutation'].append(str(mut))\n",
    "            continue\n",
    "            \n",
    "        candidates = mutations.loc[mutations.genome_index == x['genome_index'],:]\n",
    "        \n",
    "        # Make sure the gene aligns\n",
    "        candidates = candidates.loc[[gene in x['gene'] for gene in candidates.gene], :]\n",
    "        \n",
    "        # Isolate the candidates who have one of the amino acid swaps indicated\n",
    "        candidates = candidates.loc[[any(code in searchable_variant for code in x['change']) for searchable_variant in candidates.searchable_variant], :]  \n",
    "        \n",
    "        # Move on if there are no relevant mutations\n",
    "        if len(candidates) == 0:\n",
    "            continue\n",
    "            \n",
    "        temp = candidates.loc[:,['drug', 'genome_index', 'confidence', 'gene']]\n",
    "        temp['WHO Variant'] = candidates.variant\n",
    "        temp['isolate'] = strainID\n",
    "        temp['GenTB Mutation'] = x['original']\n",
    "        \n",
    "        final_db = pd.concat([final_db, temp], ignore_index = True)\n",
    "            "
   ]
  },
  {
   "cell_type": "code",
   "execution_count": 190,
   "id": "966fe005",
   "metadata": {},
   "outputs": [
    {
     "ename": "SyntaxError",
     "evalue": "invalid syntax (596733944.py, line 1)",
     "output_type": "error",
     "traceback": [
      "\u001b[0;36m  Input \u001b[0;32mIn [190]\u001b[0;36m\u001b[0m\n\u001b[0;31m    final_db.to_csv('/home/kin672/gentb-summer22/Mutations/all_mutations.csv', index = )\u001b[0m\n\u001b[0m                                                                                       ^\u001b[0m\n\u001b[0;31mSyntaxError\u001b[0m\u001b[0;31m:\u001b[0m invalid syntax\n"
     ]
    }
   ],
   "source": [
    "final_db.to_csv('/home/kin672/gentb-summer22/Mutations/all_mutations.csv', index = False)\n",
    "pd.DataFrame(problems['The JSON is weird']).to_csv('/home/kin672/gentb-summer22/Mutations/Weird_JSONS.csv', index = False)\n",
    "pd.DataFrame(problems['This mutation is weird']).to_csv('/home/kin672/gentb-summer22/Mutations/Weird_Mutations.csv', index = False)\n",
    "pd.DataFrame(mutation_count).to_csv('/home/kin672/gentb-summer22/Mutations/Mutation_Count.csv', index = False)"
   ]
  }
 ],
 "metadata": {
  "kernelspec": {
   "display_name": "jupytervenv",
   "language": "python",
   "name": "jupytervenv"
  },
  "language_info": {
   "codemirror_mode": {
    "name": "ipython",
    "version": 3
   },
   "file_extension": ".py",
   "mimetype": "text/x-python",
   "name": "python",
   "nbconvert_exporter": "python",
   "pygments_lexer": "ipython3",
   "version": "3.10.4"
  }
 },
 "nbformat": 4,
 "nbformat_minor": 5
}
