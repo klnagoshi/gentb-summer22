{
 "cells": [
  {
   "cell_type": "code",
   "execution_count": 1,
   "id": "022979ce",
   "metadata": {},
   "outputs": [],
   "source": [
    "import pandas as pd\n",
    "import numpy as np"
   ]
  },
  {
   "cell_type": "code",
   "execution_count": 2,
   "id": "6fa0a195",
   "metadata": {},
   "outputs": [],
   "source": [
    "location_in_json = pd.read_csv('/home/kin672/gentb-summer22/Mutations/GenTB_Important_Mutation_Locations.csv')\n",
    "impt_mutations = pd.read_csv('/home/kin672/gentb-summer22/Mutations/GenTB_Important_Mutations_Only.csv')\n",
    "mutation_to_WHO = pd.read_csv('/home/kin672/gentb-summer22/Mutations/GenTB_Important_Mutations_to_WHOList.csv')\n",
    "resistance = pd.read_csv('/home/kin672/gentb-summer22/Creating Summaries from Relevant Files/7-18 Output/full_df_7-18.csv')"
   ]
  },
  {
   "cell_type": "code",
   "execution_count": 17,
   "id": "ed540961",
   "metadata": {},
   "outputs": [],
   "source": [
    "# End goal columns: Isolate, Mutation, Drug, Confidence, Resistant to Drug?, Index of Sublist, Index within Sublist\n",
    "target = mutation_to_WHO[['Isolate', 'GenTB_Mutation', 'Drug', 'Confidence']]"
   ]
  },
  {
   "cell_type": "code",
   "execution_count": 18,
   "id": "3ce92528",
   "metadata": {},
   "outputs": [
    {
     "ename": "KeyboardInterrupt",
     "evalue": "",
     "output_type": "error",
     "traceback": [
      "\u001b[0;31m---------------------------------------------------------------------------\u001b[0m",
      "\u001b[0;31mKeyboardInterrupt\u001b[0m                         Traceback (most recent call last)",
      "Input \u001b[0;32mIn [18]\u001b[0m, in \u001b[0;36m<cell line: 11>\u001b[0;34m()\u001b[0m\n\u001b[1;32m     14\u001b[0m         \u001b[38;5;28;01mcontinue\u001b[39;00m\n\u001b[1;32m     15\u001b[0m     drug \u001b[38;5;241m=\u001b[39m row[\u001b[38;5;124m'\u001b[39m\u001b[38;5;124mDrug\u001b[39m\u001b[38;5;124m'\u001b[39m]\n\u001b[0;32m---> 16\u001b[0m     resistance_col\u001b[38;5;241m.\u001b[39mappend(\u001b[43mresistant_to_drug\u001b[49m\u001b[43m(\u001b[49m\u001b[43misolate\u001b[49m\u001b[43m,\u001b[49m\u001b[43m \u001b[49m\u001b[43mdrug\u001b[49m\u001b[43m)\u001b[49m)\n\u001b[1;32m     17\u001b[0m target[\u001b[38;5;124m'\u001b[39m\u001b[38;5;124mResistant_to_Drug\u001b[39m\u001b[38;5;124m'\u001b[39m] \u001b[38;5;241m=\u001b[39m resistance_col\n",
      "Input \u001b[0;32mIn [18]\u001b[0m, in \u001b[0;36mresistant_to_drug\u001b[0;34m(isolate, drug, df)\u001b[0m\n\u001b[1;32m      1\u001b[0m \u001b[38;5;28;01mdef\u001b[39;00m \u001b[38;5;21mresistant_to_drug\u001b[39m(isolate, drug, df \u001b[38;5;241m=\u001b[39m resistance):\n\u001b[0;32m----> 2\u001b[0m     resistance \u001b[38;5;241m=\u001b[39m \u001b[43mpd\u001b[49m\u001b[38;5;241;43m.\u001b[39;49m\u001b[43mread_csv\u001b[49m\u001b[43m(\u001b[49m\u001b[38;5;124;43m'\u001b[39;49m\u001b[38;5;124;43m/home/kin672/gentb-summer22/Creating Summaries from Relevant Files/7-18 Output/full_df_7-18.csv\u001b[39;49m\u001b[38;5;124;43m'\u001b[39;49m\u001b[43m)\u001b[49m\n\u001b[1;32m      3\u001b[0m     \u001b[38;5;28;01mif\u001b[39;00m pd\u001b[38;5;241m.\u001b[39misna(drug):\n\u001b[1;32m      4\u001b[0m         \u001b[38;5;28;01mreturn\u001b[39;00m(\u001b[38;5;124m'\u001b[39m\u001b[38;5;124mN/A\u001b[39m\u001b[38;5;124m'\u001b[39m)\n",
      "File \u001b[0;32m~/anaconda3/envs/jupytervenv/lib/python3.10/site-packages/pandas/util/_decorators.py:311\u001b[0m, in \u001b[0;36mdeprecate_nonkeyword_arguments.<locals>.decorate.<locals>.wrapper\u001b[0;34m(*args, **kwargs)\u001b[0m\n\u001b[1;32m    305\u001b[0m \u001b[38;5;28;01mif\u001b[39;00m \u001b[38;5;28mlen\u001b[39m(args) \u001b[38;5;241m>\u001b[39m num_allow_args:\n\u001b[1;32m    306\u001b[0m     warnings\u001b[38;5;241m.\u001b[39mwarn(\n\u001b[1;32m    307\u001b[0m         msg\u001b[38;5;241m.\u001b[39mformat(arguments\u001b[38;5;241m=\u001b[39marguments),\n\u001b[1;32m    308\u001b[0m         \u001b[38;5;167;01mFutureWarning\u001b[39;00m,\n\u001b[1;32m    309\u001b[0m         stacklevel\u001b[38;5;241m=\u001b[39mstacklevel,\n\u001b[1;32m    310\u001b[0m     )\n\u001b[0;32m--> 311\u001b[0m \u001b[38;5;28;01mreturn\u001b[39;00m \u001b[43mfunc\u001b[49m\u001b[43m(\u001b[49m\u001b[38;5;241;43m*\u001b[39;49m\u001b[43margs\u001b[49m\u001b[43m,\u001b[49m\u001b[43m \u001b[49m\u001b[38;5;241;43m*\u001b[39;49m\u001b[38;5;241;43m*\u001b[39;49m\u001b[43mkwargs\u001b[49m\u001b[43m)\u001b[49m\n",
      "File \u001b[0;32m~/anaconda3/envs/jupytervenv/lib/python3.10/site-packages/pandas/io/parsers/readers.py:680\u001b[0m, in \u001b[0;36mread_csv\u001b[0;34m(filepath_or_buffer, sep, delimiter, header, names, index_col, usecols, squeeze, prefix, mangle_dupe_cols, dtype, engine, converters, true_values, false_values, skipinitialspace, skiprows, skipfooter, nrows, na_values, keep_default_na, na_filter, verbose, skip_blank_lines, parse_dates, infer_datetime_format, keep_date_col, date_parser, dayfirst, cache_dates, iterator, chunksize, compression, thousands, decimal, lineterminator, quotechar, quoting, doublequote, escapechar, comment, encoding, encoding_errors, dialect, error_bad_lines, warn_bad_lines, on_bad_lines, delim_whitespace, low_memory, memory_map, float_precision, storage_options)\u001b[0m\n\u001b[1;32m    665\u001b[0m kwds_defaults \u001b[38;5;241m=\u001b[39m _refine_defaults_read(\n\u001b[1;32m    666\u001b[0m     dialect,\n\u001b[1;32m    667\u001b[0m     delimiter,\n\u001b[0;32m   (...)\u001b[0m\n\u001b[1;32m    676\u001b[0m     defaults\u001b[38;5;241m=\u001b[39m{\u001b[38;5;124m\"\u001b[39m\u001b[38;5;124mdelimiter\u001b[39m\u001b[38;5;124m\"\u001b[39m: \u001b[38;5;124m\"\u001b[39m\u001b[38;5;124m,\u001b[39m\u001b[38;5;124m\"\u001b[39m},\n\u001b[1;32m    677\u001b[0m )\n\u001b[1;32m    678\u001b[0m kwds\u001b[38;5;241m.\u001b[39mupdate(kwds_defaults)\n\u001b[0;32m--> 680\u001b[0m \u001b[38;5;28;01mreturn\u001b[39;00m \u001b[43m_read\u001b[49m\u001b[43m(\u001b[49m\u001b[43mfilepath_or_buffer\u001b[49m\u001b[43m,\u001b[49m\u001b[43m \u001b[49m\u001b[43mkwds\u001b[49m\u001b[43m)\u001b[49m\n",
      "File \u001b[0;32m~/anaconda3/envs/jupytervenv/lib/python3.10/site-packages/pandas/io/parsers/readers.py:581\u001b[0m, in \u001b[0;36m_read\u001b[0;34m(filepath_or_buffer, kwds)\u001b[0m\n\u001b[1;32m    578\u001b[0m     \u001b[38;5;28;01mreturn\u001b[39;00m parser\n\u001b[1;32m    580\u001b[0m \u001b[38;5;28;01mwith\u001b[39;00m parser:\n\u001b[0;32m--> 581\u001b[0m     \u001b[38;5;28;01mreturn\u001b[39;00m \u001b[43mparser\u001b[49m\u001b[38;5;241;43m.\u001b[39;49m\u001b[43mread\u001b[49m\u001b[43m(\u001b[49m\u001b[43mnrows\u001b[49m\u001b[43m)\u001b[49m\n",
      "File \u001b[0;32m~/anaconda3/envs/jupytervenv/lib/python3.10/site-packages/pandas/io/parsers/readers.py:1254\u001b[0m, in \u001b[0;36mTextFileReader.read\u001b[0;34m(self, nrows)\u001b[0m\n\u001b[1;32m   1252\u001b[0m nrows \u001b[38;5;241m=\u001b[39m validate_integer(\u001b[38;5;124m\"\u001b[39m\u001b[38;5;124mnrows\u001b[39m\u001b[38;5;124m\"\u001b[39m, nrows)\n\u001b[1;32m   1253\u001b[0m \u001b[38;5;28;01mtry\u001b[39;00m:\n\u001b[0;32m-> 1254\u001b[0m     index, columns, col_dict \u001b[38;5;241m=\u001b[39m \u001b[38;5;28;43mself\u001b[39;49m\u001b[38;5;241;43m.\u001b[39;49m\u001b[43m_engine\u001b[49m\u001b[38;5;241;43m.\u001b[39;49m\u001b[43mread\u001b[49m\u001b[43m(\u001b[49m\u001b[43mnrows\u001b[49m\u001b[43m)\u001b[49m\n\u001b[1;32m   1255\u001b[0m \u001b[38;5;28;01mexcept\u001b[39;00m \u001b[38;5;167;01mException\u001b[39;00m:\n\u001b[1;32m   1256\u001b[0m     \u001b[38;5;28mself\u001b[39m\u001b[38;5;241m.\u001b[39mclose()\n",
      "File \u001b[0;32m~/anaconda3/envs/jupytervenv/lib/python3.10/site-packages/pandas/io/parsers/c_parser_wrapper.py:225\u001b[0m, in \u001b[0;36mCParserWrapper.read\u001b[0;34m(self, nrows)\u001b[0m\n\u001b[1;32m    223\u001b[0m \u001b[38;5;28;01mtry\u001b[39;00m:\n\u001b[1;32m    224\u001b[0m     \u001b[38;5;28;01mif\u001b[39;00m \u001b[38;5;28mself\u001b[39m\u001b[38;5;241m.\u001b[39mlow_memory:\n\u001b[0;32m--> 225\u001b[0m         chunks \u001b[38;5;241m=\u001b[39m \u001b[38;5;28;43mself\u001b[39;49m\u001b[38;5;241;43m.\u001b[39;49m\u001b[43m_reader\u001b[49m\u001b[38;5;241;43m.\u001b[39;49m\u001b[43mread_low_memory\u001b[49m\u001b[43m(\u001b[49m\u001b[43mnrows\u001b[49m\u001b[43m)\u001b[49m\n\u001b[1;32m    226\u001b[0m         \u001b[38;5;66;03m# destructive to chunks\u001b[39;00m\n\u001b[1;32m    227\u001b[0m         data \u001b[38;5;241m=\u001b[39m _concatenate_chunks(chunks)\n",
      "File \u001b[0;32m~/anaconda3/envs/jupytervenv/lib/python3.10/site-packages/pandas/_libs/parsers.pyx:805\u001b[0m, in \u001b[0;36mpandas._libs.parsers.TextReader.read_low_memory\u001b[0;34m()\u001b[0m\n",
      "File \u001b[0;32m~/anaconda3/envs/jupytervenv/lib/python3.10/site-packages/pandas/_libs/parsers.pyx:883\u001b[0m, in \u001b[0;36mpandas._libs.parsers.TextReader._read_rows\u001b[0;34m()\u001b[0m\n",
      "File \u001b[0;32m~/anaconda3/envs/jupytervenv/lib/python3.10/site-packages/pandas/_libs/parsers.pyx:1026\u001b[0m, in \u001b[0;36mpandas._libs.parsers.TextReader._convert_column_data\u001b[0;34m()\u001b[0m\n",
      "File \u001b[0;32m~/anaconda3/envs/jupytervenv/lib/python3.10/site-packages/pandas/_libs/parsers.pyx:1072\u001b[0m, in \u001b[0;36mpandas._libs.parsers.TextReader._convert_tokens\u001b[0;34m()\u001b[0m\n",
      "File \u001b[0;32m~/anaconda3/envs/jupytervenv/lib/python3.10/site-packages/pandas/_libs/parsers.pyx:1147\u001b[0m, in \u001b[0;36mpandas._libs.parsers.TextReader._convert_with_dtype\u001b[0;34m()\u001b[0m\n",
      "File \u001b[0;32m~/anaconda3/envs/jupytervenv/lib/python3.10/site-packages/pandas/core/dtypes/common.py:1429\u001b[0m, in \u001b[0;36mis_extension_array_dtype\u001b[0;34m(arr_or_dtype)\u001b[0m\n\u001b[1;32m   1420\u001b[0m     \u001b[38;5;66;03m# Note: if other EA dtypes are ever held in HybridBlock, exclude those\u001b[39;00m\n\u001b[1;32m   1421\u001b[0m     \u001b[38;5;66;03m#  here too.\u001b[39;00m\n\u001b[1;32m   1422\u001b[0m     \u001b[38;5;66;03m# NB: need to check DatetimeTZDtype and not is_datetime64tz_dtype\u001b[39;00m\n\u001b[1;32m   1423\u001b[0m     \u001b[38;5;66;03m#  to exclude ArrowTimestampUSDtype\u001b[39;00m\n\u001b[1;32m   1424\u001b[0m     \u001b[38;5;28;01mreturn\u001b[39;00m \u001b[38;5;28misinstance\u001b[39m(dtype, ExtensionDtype) \u001b[38;5;129;01mand\u001b[39;00m \u001b[38;5;129;01mnot\u001b[39;00m \u001b[38;5;28misinstance\u001b[39m(\n\u001b[1;32m   1425\u001b[0m         dtype, (DatetimeTZDtype, PeriodDtype)\n\u001b[1;32m   1426\u001b[0m     )\n\u001b[0;32m-> 1429\u001b[0m \u001b[38;5;28;01mdef\u001b[39;00m \u001b[38;5;21mis_extension_array_dtype\u001b[39m(arr_or_dtype) \u001b[38;5;241m-\u001b[39m\u001b[38;5;241m>\u001b[39m \u001b[38;5;28mbool\u001b[39m:\n\u001b[1;32m   1430\u001b[0m     \u001b[38;5;124;03m\"\"\"\u001b[39;00m\n\u001b[1;32m   1431\u001b[0m \u001b[38;5;124;03m    Check if an object is a pandas extension array type.\u001b[39;00m\n\u001b[1;32m   1432\u001b[0m \n\u001b[0;32m   (...)\u001b[0m\n\u001b[1;32m   1472\u001b[0m \u001b[38;5;124;03m    False\u001b[39;00m\n\u001b[1;32m   1473\u001b[0m \u001b[38;5;124;03m    \"\"\"\u001b[39;00m\n\u001b[1;32m   1474\u001b[0m     dtype \u001b[38;5;241m=\u001b[39m \u001b[38;5;28mgetattr\u001b[39m(arr_or_dtype, \u001b[38;5;124m\"\u001b[39m\u001b[38;5;124mdtype\u001b[39m\u001b[38;5;124m\"\u001b[39m, arr_or_dtype)\n",
      "\u001b[0;31mKeyboardInterrupt\u001b[0m: "
     ]
    }
   ],
   "source": [
    "def resistant_to_drug(isolate, drug, df = resistance):\n",
    "    resistance = pd.read_csv('/home/kin672/gentb-summer22/Creating Summaries from Relevant Files/7-18 Output/full_df_7-18.csv')\n",
    "    if pd.isna(drug):\n",
    "        return('N/A')\n",
    "    return(df.loc[(df.ID == isolate) & (df.Drug == drug), 'Resistant'].values[0])\n",
    "\n",
    "# Exclude if no lineage:\n",
    "exclude = ['ERR2677407', 'por1A', 'X101_S12', 'M45_S6', 'K67_S2', 'ERR2677386', 'kr-s1']\n",
    "\n",
    "resistance_col = []\n",
    "for index, row in target.iterrows():\n",
    "    isolate = row['Isolate']\n",
    "    if isolate in exclude:\n",
    "        continue\n",
    "    drug = row['Drug']\n",
    "    resistance_col.append(resistant_to_drug(isolate, drug))\n",
    "target['Resistant_to_Drug'] = resistance_col"
   ]
  },
  {
   "cell_type": "code",
   "execution_count": 11,
   "id": "02f558fd",
   "metadata": {},
   "outputs": [
    {
     "data": {
      "text/plain": [
       "[0, 0, 0, 0, 0, 0, 0, 0, 0, 0, 0, 0, 0, 0, 0, 0, 0, 0, 1, 0]"
      ]
     },
     "execution_count": 11,
     "metadata": {},
     "output_type": "execute_result"
    }
   ],
   "source": [
    "def sublist_indices(isolate, mutation, df = location_in_json):\n",
    "    try:\n",
    "        sublist_index = df.loc[(df.Isolate == isolate) & (df.Mutation == mutation), 'Sublist_index'].values[0]\n",
    "        index_in_sublist = df.loc[(df.Isolate == isolate) & (df.Mutation == mutation), 'Index_within_sublist'].values[0]\n",
    "    except:\n",
    "        return([mutation, mutation])\n",
    "    return([sublist_index, index_in_sublist])\n",
    "\n",
    "sublist_col = []\n",
    "index_in_sublist_col = []\n",
    "for index, row in target.iterrows():\n",
    "    isolate = row['Isolate']\n",
    "    mutation = row['GenTB_Mutation']\n",
    "    indices = sublist_indices(isolate, mutation)\n",
    "    sublist_col.append(indices[0])\n",
    "    index_in_sublist_col.append(indices[1])\n",
    "    \n",
    "target['Index_of_Sublist'] = sublist_col\n",
    "target['Index_within_Sublist'] = index_in_sublist_col\n"
   ]
  },
  {
   "cell_type": "code",
   "execution_count": null,
   "id": "360a3121",
   "metadata": {},
   "outputs": [],
   "source": [
    "target.to_csv('/home/kin672/gentb-summer22/Mutations/GenTB_Important_Mutation_with_Predicted_Resistance.csv')"
   ]
  },
  {
   "cell_type": "code",
   "execution_count": 13,
   "id": "9c7c317f",
   "metadata": {},
   "outputs": [
    {
     "data": {
      "text/html": [
       "<div>\n",
       "<style scoped>\n",
       "    .dataframe tbody tr th:only-of-type {\n",
       "        vertical-align: middle;\n",
       "    }\n",
       "\n",
       "    .dataframe tbody tr th {\n",
       "        vertical-align: top;\n",
       "    }\n",
       "\n",
       "    .dataframe thead th {\n",
       "        text-align: right;\n",
       "    }\n",
       "</style>\n",
       "<table border=\"1\" class=\"dataframe\">\n",
       "  <thead>\n",
       "    <tr style=\"text-align: right;\">\n",
       "      <th></th>\n",
       "      <th>Unnamed: 0</th>\n",
       "      <th>ID</th>\n",
       "      <th>Drug</th>\n",
       "      <th>Resistant</th>\n",
       "      <th>Lineage</th>\n",
       "    </tr>\n",
       "  </thead>\n",
       "  <tbody>\n",
       "  </tbody>\n",
       "</table>\n",
       "</div>"
      ],
      "text/plain": [
       "Empty DataFrame\n",
       "Columns: [Unnamed: 0, ID, Drug, Resistant, Lineage]\n",
       "Index: []"
      ]
     },
     "execution_count": 13,
     "metadata": {},
     "output_type": "execute_result"
    }
   ],
   "source": [
    "resistance[resistance.ID=='ERR2677407']"
   ]
  },
  {
   "cell_type": "code",
   "execution_count": 16,
   "id": "71b9dcd5",
   "metadata": {},
   "outputs": [
    {
     "data": {
      "text/html": [
       "<div>\n",
       "<style scoped>\n",
       "    .dataframe tbody tr th:only-of-type {\n",
       "        vertical-align: middle;\n",
       "    }\n",
       "\n",
       "    .dataframe tbody tr th {\n",
       "        vertical-align: top;\n",
       "    }\n",
       "\n",
       "    .dataframe thead th {\n",
       "        text-align: right;\n",
       "    }\n",
       "</style>\n",
       "<table border=\"1\" class=\"dataframe\">\n",
       "  <thead>\n",
       "    <tr style=\"text-align: right;\">\n",
       "      <th></th>\n",
       "      <th>syn</th>\n",
       "      <th>ntpos</th>\n",
       "      <th>coding</th>\n",
       "      <th>cref</th>\n",
       "      <th>cpos</th>\n",
       "      <th>cver</th>\n",
       "      <th>amino</th>\n",
       "      <th>aref</th>\n",
       "      <th>apos</th>\n",
       "      <th>aver</th>\n",
       "      <th>noncode</th>\n",
       "      <th>gene</th>\n",
       "      <th>rgene</th>\n",
       "      <th>Isolate</th>\n",
       "      <th>GenTB_Mutation</th>\n",
       "      <th>mode</th>\n",
       "      <th>codes</th>\n",
       "    </tr>\n",
       "  </thead>\n",
       "  <tbody>\n",
       "    <tr>\n",
       "      <th>6594</th>\n",
       "      <td>CN</td>\n",
       "      <td>2155168</td>\n",
       "      <td>C944G</td>\n",
       "      <td>C</td>\n",
       "      <td>944</td>\n",
       "      <td>G</td>\n",
       "      <td>S315T</td>\n",
       "      <td>S</td>\n",
       "      <td>315.0</td>\n",
       "      <td>T</td>\n",
       "      <td>NaN</td>\n",
       "      <td>katG</td>\n",
       "      <td>NaN</td>\n",
       "      <td>ERR2677407</td>\n",
       "      <td>SNP_CN_2155168_C944G_S315T_katG</td>\n",
       "      <td>NaN</td>\n",
       "      <td>NaN</td>\n",
       "    </tr>\n",
       "    <tr>\n",
       "      <th>6595</th>\n",
       "      <td>CN</td>\n",
       "      <td>761155</td>\n",
       "      <td>C1349T</td>\n",
       "      <td>C</td>\n",
       "      <td>1349</td>\n",
       "      <td>T</td>\n",
       "      <td>S450L</td>\n",
       "      <td>S</td>\n",
       "      <td>450.0</td>\n",
       "      <td>L</td>\n",
       "      <td>NaN</td>\n",
       "      <td>rpoB</td>\n",
       "      <td>NaN</td>\n",
       "      <td>ERR2677407</td>\n",
       "      <td>SNP_CN_761155_C1349T_S450L_rpoB</td>\n",
       "      <td>NaN</td>\n",
       "      <td>NaN</td>\n",
       "    </tr>\n",
       "    <tr>\n",
       "      <th>6596</th>\n",
       "      <td>CN</td>\n",
       "      <td>4247574</td>\n",
       "      <td>A1061C</td>\n",
       "      <td>A</td>\n",
       "      <td>1061</td>\n",
       "      <td>C</td>\n",
       "      <td>D354A</td>\n",
       "      <td>D</td>\n",
       "      <td>354.0</td>\n",
       "      <td>A</td>\n",
       "      <td>NaN</td>\n",
       "      <td>embB</td>\n",
       "      <td>NaN</td>\n",
       "      <td>ERR2677407</td>\n",
       "      <td>SNP_CN_4247574_A1061C_D354A_embB</td>\n",
       "      <td>NaN</td>\n",
       "      <td>NaN</td>\n",
       "    </tr>\n",
       "    <tr>\n",
       "      <th>6597</th>\n",
       "      <td>CN</td>\n",
       "      <td>4407927</td>\n",
       "      <td>T276G</td>\n",
       "      <td>T</td>\n",
       "      <td>276</td>\n",
       "      <td>G</td>\n",
       "      <td>E92D</td>\n",
       "      <td>E</td>\n",
       "      <td>92.0</td>\n",
       "      <td>D</td>\n",
       "      <td>NaN</td>\n",
       "      <td>gid</td>\n",
       "      <td>NaN</td>\n",
       "      <td>ERR2677407</td>\n",
       "      <td>SNP_CN_4407927_T276G_E92D_gid</td>\n",
       "      <td>NaN</td>\n",
       "      <td>NaN</td>\n",
       "    </tr>\n",
       "    <tr>\n",
       "      <th>6598</th>\n",
       "      <td>N</td>\n",
       "      <td>1472362</td>\n",
       "      <td>C517T</td>\n",
       "      <td>C</td>\n",
       "      <td>517</td>\n",
       "      <td>T</td>\n",
       "      <td>NaN</td>\n",
       "      <td>NaN</td>\n",
       "      <td>NaN</td>\n",
       "      <td>NaN</td>\n",
       "      <td>NaN</td>\n",
       "      <td>NaN</td>\n",
       "      <td>rrs</td>\n",
       "      <td>ERR2677407</td>\n",
       "      <td>SNP_N_1472362_C517T_rrs</td>\n",
       "      <td>NaN</td>\n",
       "      <td>NaN</td>\n",
       "    </tr>\n",
       "  </tbody>\n",
       "</table>\n",
       "</div>"
      ],
      "text/plain": [
       "     syn    ntpos  coding cref  cpos cver  amino aref   apos aver noncode  \\\n",
       "6594  CN  2155168   C944G    C   944    G  S315T    S  315.0    T     NaN   \n",
       "6595  CN   761155  C1349T    C  1349    T  S450L    S  450.0    L     NaN   \n",
       "6596  CN  4247574  A1061C    A  1061    C  D354A    D  354.0    A     NaN   \n",
       "6597  CN  4407927   T276G    T   276    G   E92D    E   92.0    D     NaN   \n",
       "6598   N  1472362   C517T    C   517    T    NaN  NaN    NaN  NaN     NaN   \n",
       "\n",
       "      gene rgene     Isolate                    GenTB_Mutation mode codes  \n",
       "6594  katG   NaN  ERR2677407   SNP_CN_2155168_C944G_S315T_katG  NaN   NaN  \n",
       "6595  rpoB   NaN  ERR2677407   SNP_CN_761155_C1349T_S450L_rpoB  NaN   NaN  \n",
       "6596  embB   NaN  ERR2677407  SNP_CN_4247574_A1061C_D354A_embB  NaN   NaN  \n",
       "6597   gid   NaN  ERR2677407     SNP_CN_4407927_T276G_E92D_gid  NaN   NaN  \n",
       "6598   NaN   rrs  ERR2677407           SNP_N_1472362_C517T_rrs  NaN   NaN  "
      ]
     },
     "execution_count": 16,
     "metadata": {},
     "output_type": "execute_result"
    }
   ],
   "source": [
    "impt_mutations[impt_mutations.Isolate == 'ERR2677407']"
   ]
  }
 ],
 "metadata": {
  "kernelspec": {
   "display_name": "jupytervenv",
   "language": "python",
   "name": "jupytervenv"
  },
  "language_info": {
   "codemirror_mode": {
    "name": "ipython",
    "version": 3
   },
   "file_extension": ".py",
   "mimetype": "text/x-python",
   "name": "python",
   "nbconvert_exporter": "python",
   "pygments_lexer": "ipython3",
   "version": "3.10.4"
  }
 },
 "nbformat": 4,
 "nbformat_minor": 5
}
