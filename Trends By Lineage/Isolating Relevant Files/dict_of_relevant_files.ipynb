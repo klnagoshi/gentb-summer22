{
 "cells": [
  {
   "cell_type": "code",
   "execution_count": null,
   "id": "fd5d694c",
   "metadata": {},
   "outputs": [],
   "source": [
    "import pandas as pd\n",
    "import numpy as np\n",
    "import json\n",
    "import os"
   ]
  },
  {
   "cell_type": "code",
   "execution_count": null,
   "id": "4c91b6f9",
   "metadata": {},
   "outputs": [],
   "source": [
    "# Create dictionary with format {STRAIN ID: [lineage.txt file, matrix.json file]}\n",
    "target_dict = {}\n",
    "IDs_with_errors = {'No lineage files':{}, 'More than one lineage file':{}, 'The strainID already existed':{}}\n",
    "predictData = os.listdir('//n//groups//gentb_www//predictData')\n",
    "empty_json = []\n",
    "\n",
    "# Walk through every submission folder in predictData\n",
    "for folder in predictData:\n",
    "    files = os.listdir('//n//groups//gentb_www//predictData//' + folder)\n",
    "    \n",
    "    # Iterate through each file in each submission folder to pull relevant .json and .txt files only\n",
    "    for file in files:\n",
    "        if 'matrix.json' in file:\n",
    "            json_path = '//n//groups//gentb_www//predictData//' + folder + '//' + file\n",
    "            if open(json_path).read() == '':\n",
    "                empty_json.append(folder + '/' + file)\n",
    "                continue\n",
    "            else:\n",
    "                with open(json_path) as f:\n",
    "                    resistance = json.load(f)\n",
    "                strainID = resistance[0][0][0].split('/')[-1]\n",
    "            \n",
    "            # Find corresponding lineage.txt file \n",
    "            lineage_files = list(filter(lambda x: (strainID in x and 'lineage.txt' in x), files))\n",
    "            \n",
    "            # If no lineage file exists or too many exist, there is a problem.\n",
    "            if len(lineage_files) == 0:\n",
    "                if folder not in IDs_with_errors['No lineage files'].keys():\n",
    "                    IDs_with_errors['No lineage files'][folder] = [strainID]\n",
    "                elif strainID not in IDs_with_errors['No lineage files'].get(folder):\n",
    "                    IDs_with_errors['No lineage files'][folder].append(strainID)\n",
    "                continue\n",
    "            elif len(lineage_files) != 1:\n",
    "                if folder not in IDs_with_errors['More than one lineage file'].keys():\n",
    "                    IDs_with_errors['More than one lineage file'][folder] = [strainID]\n",
    "                elif strainID not in IDs_with_errors['More than one lineage file'].get(folder):\n",
    "                    IDs_with_errors['More than one lineage file'][folder].append(strainID)\n",
    "                continue\n",
    "            \n",
    "            # Add strainID to dictionary if not already in -- if it is already present, there is a problem.\n",
    "            if strainID not in target_dict.keys():\n",
    "                target_dict[strainID] = {'Folder':folder, 'Resistance':file, 'Lineage':lineage_files[0]}\n",
    "            else:\n",
    "                if folder not in IDs_with_errors['The strainID already existed'].keys():\n",
    "                    IDs_with_errors['The strainID already existed'][folder] = [strainID]\n",
    "                elif strainID not in IDs_with_errors['The strainID already existed'].get(folder):\n",
    "                    IDs_with_errors['The strainID already existed'][folder].append(strainID)\n",
    "            \n",
    "            \n",
    "IDs_with_errors['.json file is empty'] = empty_json\n",
    "\n",
    "\n",
    "\n"
   ]
  },
  {
   "cell_type": "code",
   "execution_count": null,
   "id": "558cbbd0",
   "metadata": {},
   "outputs": [],
   "source": [
    "with open('//home//kin672//Kira_GenTB//relevant_file_names.json', 'w') as f1:\n",
    "    json.dump(target_dict, f1,  indent=4)\n",
    "    \n",
    "with open('//home//kin672//Kira_GenTB//strainIDs_with_errors.json', 'w') as f2:\n",
    "    json.dump(IDs_with_errors, f2,  indent=4)  "
   ]
  }
 ],
 "metadata": {
  "kernelspec": {
   "display_name": "jupytervenv",
   "language": "python",
   "name": "jupytervenv"
  },
  "language_info": {
   "codemirror_mode": {
    "name": "ipython",
    "version": 3
   },
   "file_extension": ".py",
   "mimetype": "text/x-python",
   "name": "python",
   "nbconvert_exporter": "python",
   "pygments_lexer": "ipython3",
   "version": "3.10.4"
  }
 },
 "nbformat": 4,
 "nbformat_minor": 5
}
